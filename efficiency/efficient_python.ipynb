{
 "cells": [
  {
   "cell_type": "code",
   "execution_count": 1,
   "id": "332c6883",
   "metadata": {},
   "outputs": [],
   "source": [
    "import timeit\n",
    "from memory_profiler import profile\n",
    "from faker import Faker\n",
    "from collections import deque\n",
    "from collections import defaultdict\n",
    "import random\n",
    "import datetime\n",
    "import ast\n",
    "import pandas as pd\n",
    "from tqdm import tqdm\n",
    "import heapq\n",
    "import re\n",
    "\n",
    "faker = Faker()"
   ]
  },
  {
   "cell_type": "markdown",
   "id": "98a22770",
   "metadata": {},
   "source": [
    "# 1. Data Structures"
   ]
  },
  {
   "cell_type": "markdown",
   "id": "74529cfd",
   "metadata": {},
   "source": [
    "## A. Counting Items"
   ]
  },
  {
   "cell_type": "code",
   "execution_count": 2,
   "id": "379911e9",
   "metadata": {},
   "outputs": [],
   "source": [
    "iterable = [random.choices(range(1000), k=10000)]"
   ]
  },
  {
   "cell_type": "markdown",
   "id": "d9881469",
   "metadata": {},
   "source": [
    "### i. List implementation"
   ]
  },
  {
   "cell_type": "code",
   "execution_count": 3,
   "id": "5e81e8c0",
   "metadata": {},
   "outputs": [],
   "source": [
    "def counter1(iterable):\n",
    "    counts = []\n",
    "    for item in iterable:\n",
    "        found = False\n",
    "        for pair in counts:\n",
    "            if pair[0] == item:\n",
    "                pair[1] += 1\n",
    "                found = True\n",
    "                break\n",
    "        if not found:\n",
    "            counts.append([item, 1])\n",
    "    return counts"
   ]
  },
  {
   "cell_type": "code",
   "execution_count": 4,
   "id": "a6dcffa5",
   "metadata": {},
   "outputs": [
    {
     "name": "stdout",
     "output_type": "stream",
     "text": [
      "271 ms ± 28.3 ms per loop (mean ± std. dev. of 7 runs, 1 loop each)\n"
     ]
    }
   ],
   "source": [
    "%timeit for x in iterable: counter1(x)"
   ]
  },
  {
   "cell_type": "markdown",
   "id": "458fcf02",
   "metadata": {},
   "source": [
    "### ii. Dictionary implementation"
   ]
  },
  {
   "cell_type": "code",
   "execution_count": 5,
   "id": "a701c85c",
   "metadata": {},
   "outputs": [],
   "source": [
    "def counter2(iterable):\n",
    "    counts = {}\n",
    "    for item in iterable:\n",
    "        counts[item] = counts.get(item, 0) + 1\n",
    "    return counts"
   ]
  },
  {
   "cell_type": "code",
   "execution_count": 6,
   "id": "48a22bc8",
   "metadata": {},
   "outputs": [
    {
     "name": "stdout",
     "output_type": "stream",
     "text": [
      "1.49 ms ± 140 µs per loop (mean ± std. dev. of 7 runs, 1000 loops each)\n"
     ]
    }
   ],
   "source": [
    "%timeit for x in iterable: counter2(x)"
   ]
  },
  {
   "cell_type": "markdown",
   "id": "d03bdb1a",
   "metadata": {},
   "source": [
    "### iii. Native Python implementation"
   ]
  },
  {
   "cell_type": "code",
   "execution_count": 7,
   "id": "6108df50",
   "metadata": {},
   "outputs": [],
   "source": [
    "from collections import Counter \n",
    "def counter3(iterable):\n",
    "    return Counter(iterable)"
   ]
  },
  {
   "cell_type": "code",
   "execution_count": 8,
   "id": "886895cc",
   "metadata": {},
   "outputs": [
    {
     "name": "stdout",
     "output_type": "stream",
     "text": [
      "527 µs ± 9.55 µs per loop (mean ± std. dev. of 7 runs, 1000 loops each)\n"
     ]
    }
   ],
   "source": [
    "%timeit for x in iterable: counter3(x)"
   ]
  },
  {
   "cell_type": "markdown",
   "id": "f1b66232",
   "metadata": {},
   "source": [
    "## B. Searching for item in iterable"
   ]
  },
  {
   "cell_type": "code",
   "execution_count": 9,
   "id": "87c24328",
   "metadata": {},
   "outputs": [],
   "source": [
    "n = 100\n",
    "names_list = list(set(faker.first_name() for x in range(n)))\n",
    "tuple_list = [(name, random.randint(18, 95)) for name in names_list]\n",
    "names_dict = {x[0]:x[1] for x in tuple_list}\n",
    "lookup_list = random.choices(names_list, k=10000)"
   ]
  },
  {
   "cell_type": "markdown",
   "id": "deb8064f",
   "metadata": {},
   "source": [
    "### i. List implementation"
   ]
  },
  {
   "cell_type": "code",
   "execution_count": 11,
   "id": "b67c9e77",
   "metadata": {},
   "outputs": [],
   "source": [
    "def look_up1(value, iterable):\n",
    "    if value in iterable:\n",
    "        return 'found'"
   ]
  },
  {
   "cell_type": "code",
   "execution_count": 12,
   "id": "45c430c5",
   "metadata": {},
   "outputs": [
    {
     "name": "stdout",
     "output_type": "stream",
     "text": [
      "7.45 ms ± 212 µs per loop (mean ± std. dev. of 7 runs, 100 loops each)\n"
     ]
    }
   ],
   "source": [
    "%timeit for x in lookup_list: look_up1(x, names_list)"
   ]
  },
  {
   "cell_type": "markdown",
   "id": "10f4078b",
   "metadata": {},
   "source": [
    "### ii. Dictionary Implementation"
   ]
  },
  {
   "cell_type": "code",
   "execution_count": 13,
   "id": "bc9971de",
   "metadata": {},
   "outputs": [
    {
     "name": "stdout",
     "output_type": "stream",
     "text": [
      "Richard 21\n"
     ]
    }
   ],
   "source": [
    "def \n",
    "    for k,v in names_dict.items():\n",
    "        print(k, v)\n",
    "        break"
   ]
  },
  {
   "cell_type": "code",
   "execution_count": null,
   "id": "21ec32a1",
   "metadata": {},
   "outputs": [],
   "source": [
    "%timeit for x in lookup_list: look_up1(x, names_dict)"
   ]
  },
  {
   "cell_type": "markdown",
   "id": "0a27391e",
   "metadata": {},
   "source": [
    "### iii. List of tuples implementation"
   ]
  },
  {
   "cell_type": "code",
   "execution_count": 14,
   "id": "4a88dbaf",
   "metadata": {},
   "outputs": [
    {
     "data": {
      "text/plain": [
       "('Richard', 21)"
      ]
     },
     "execution_count": 14,
     "metadata": {},
     "output_type": "execute_result"
    }
   ],
   "source": [
    "tuple_list[0]"
   ]
  },
  {
   "cell_type": "code",
   "execution_count": 15,
   "id": "2d5af373",
   "metadata": {},
   "outputs": [],
   "source": [
    "def look_up2(value, iterable):\n",
    "    for item in iterable:\n",
    "        if item[0] == value:\n",
    "            return item[1]\n",
    "    return None"
   ]
  },
  {
   "cell_type": "code",
   "execution_count": 16,
   "id": "7d20dd36",
   "metadata": {},
   "outputs": [
    {
     "name": "stdout",
     "output_type": "stream",
     "text": [
      "25.9 ms ± 1.04 ms per loop (mean ± std. dev. of 7 runs, 10 loops each)\n"
     ]
    }
   ],
   "source": [
    "%timeit for x in lookup_list: look_up2(x, tuple_list)"
   ]
  },
  {
   "cell_type": "markdown",
   "id": "de59d51a",
   "metadata": {},
   "source": [
    "### iv. Dictionary implementation 2"
   ]
  },
  {
   "cell_type": "code",
   "execution_count": 17,
   "id": "b13380dd",
   "metadata": {},
   "outputs": [],
   "source": [
    "def look_up3(value, dictionary):\n",
    "    return dictionary.get(value)"
   ]
  },
  {
   "cell_type": "code",
   "execution_count": 18,
   "id": "1cee9856",
   "metadata": {
    "scrolled": true
   },
   "outputs": [
    {
     "name": "stdout",
     "output_type": "stream",
     "text": [
      "1.61 ms ± 91.5 µs per loop (mean ± std. dev. of 7 runs, 1000 loops each)\n"
     ]
    }
   ],
   "source": [
    "%timeit for x in lookup_list: look_up3(x, names_dict)"
   ]
  },
  {
   "cell_type": "markdown",
   "id": "9ecf946e",
   "metadata": {},
   "source": [
    "## C. Membership Testing and Duplicate Elimination"
   ]
  },
  {
   "cell_type": "markdown",
   "id": "8174b786",
   "metadata": {},
   "source": [
    "### i. List-based Implementation"
   ]
  },
  {
   "cell_type": "code",
   "execution_count": 19,
   "id": "eaca74c4",
   "metadata": {},
   "outputs": [],
   "source": [
    "class SSN:\n",
    "    fake = Faker()\n",
    "    \n",
    "    def __init__(self):\n",
    "        self._ssns = []\n",
    "        \n",
    "    def gen_ssn(self):\n",
    "        ssn = self.fake.ssn()\n",
    "        if ssn in self._ssns:\n",
    "            ssn = gen_ssn()\n",
    "        else:\n",
    "            self._ssns.append(ssn)\n",
    "        return ssn\n",
    "\n",
    "_ssn_directory = SSN()\n",
    "\n",
    "def gen_ssn():\n",
    "    return _ssn_directory.gen_ssn()"
   ]
  },
  {
   "cell_type": "code",
   "execution_count": 20,
   "id": "73259c05",
   "metadata": {},
   "outputs": [
    {
     "ename": "KeyboardInterrupt",
     "evalue": "",
     "output_type": "error",
     "traceback": [
      "\u001b[1;31m---------------------------------------------------------------------------\u001b[0m",
      "\u001b[1;31mKeyboardInterrupt\u001b[0m                         Traceback (most recent call last)",
      "\u001b[1;32m<ipython-input-20-89a89b0cda4b>\u001b[0m in \u001b[0;36m<module>\u001b[1;34m\u001b[0m\n\u001b[1;32m----> 1\u001b[1;33m \u001b[0mget_ipython\u001b[0m\u001b[1;33m(\u001b[0m\u001b[1;33m)\u001b[0m\u001b[1;33m.\u001b[0m\u001b[0mrun_line_magic\u001b[0m\u001b[1;33m(\u001b[0m\u001b[1;34m'timeit'\u001b[0m\u001b[1;33m,\u001b[0m \u001b[1;34m'for x in range(1000): gen_ssn()'\u001b[0m\u001b[1;33m)\u001b[0m\u001b[1;33m\u001b[0m\u001b[1;33m\u001b[0m\u001b[0m\n\u001b[0m",
      "\u001b[1;32mC:\\tools\\Anaconda3\\lib\\site-packages\\IPython\\core\\interactiveshell.py\u001b[0m in \u001b[0;36mrun_line_magic\u001b[1;34m(self, magic_name, line, _stack_depth)\u001b[0m\n\u001b[0;32m   2342\u001b[0m                 \u001b[0mkwargs\u001b[0m\u001b[1;33m[\u001b[0m\u001b[1;34m'local_ns'\u001b[0m\u001b[1;33m]\u001b[0m \u001b[1;33m=\u001b[0m \u001b[0mself\u001b[0m\u001b[1;33m.\u001b[0m\u001b[0mget_local_scope\u001b[0m\u001b[1;33m(\u001b[0m\u001b[0mstack_depth\u001b[0m\u001b[1;33m)\u001b[0m\u001b[1;33m\u001b[0m\u001b[1;33m\u001b[0m\u001b[0m\n\u001b[0;32m   2343\u001b[0m             \u001b[1;32mwith\u001b[0m \u001b[0mself\u001b[0m\u001b[1;33m.\u001b[0m\u001b[0mbuiltin_trap\u001b[0m\u001b[1;33m:\u001b[0m\u001b[1;33m\u001b[0m\u001b[1;33m\u001b[0m\u001b[0m\n\u001b[1;32m-> 2344\u001b[1;33m                 \u001b[0mresult\u001b[0m \u001b[1;33m=\u001b[0m \u001b[0mfn\u001b[0m\u001b[1;33m(\u001b[0m\u001b[1;33m*\u001b[0m\u001b[0margs\u001b[0m\u001b[1;33m,\u001b[0m \u001b[1;33m**\u001b[0m\u001b[0mkwargs\u001b[0m\u001b[1;33m)\u001b[0m\u001b[1;33m\u001b[0m\u001b[1;33m\u001b[0m\u001b[0m\n\u001b[0m\u001b[0;32m   2345\u001b[0m             \u001b[1;32mreturn\u001b[0m \u001b[0mresult\u001b[0m\u001b[1;33m\u001b[0m\u001b[1;33m\u001b[0m\u001b[0m\n\u001b[0;32m   2346\u001b[0m \u001b[1;33m\u001b[0m\u001b[0m\n",
      "\u001b[1;32mC:\\tools\\Anaconda3\\lib\\site-packages\\decorator.py\u001b[0m in \u001b[0;36mfun\u001b[1;34m(*args, **kw)\u001b[0m\n\u001b[0;32m    229\u001b[0m             \u001b[1;32mif\u001b[0m \u001b[1;32mnot\u001b[0m \u001b[0mkwsyntax\u001b[0m\u001b[1;33m:\u001b[0m\u001b[1;33m\u001b[0m\u001b[1;33m\u001b[0m\u001b[0m\n\u001b[0;32m    230\u001b[0m                 \u001b[0margs\u001b[0m\u001b[1;33m,\u001b[0m \u001b[0mkw\u001b[0m \u001b[1;33m=\u001b[0m \u001b[0mfix\u001b[0m\u001b[1;33m(\u001b[0m\u001b[0margs\u001b[0m\u001b[1;33m,\u001b[0m \u001b[0mkw\u001b[0m\u001b[1;33m,\u001b[0m \u001b[0msig\u001b[0m\u001b[1;33m)\u001b[0m\u001b[1;33m\u001b[0m\u001b[1;33m\u001b[0m\u001b[0m\n\u001b[1;32m--> 231\u001b[1;33m             \u001b[1;32mreturn\u001b[0m \u001b[0mcaller\u001b[0m\u001b[1;33m(\u001b[0m\u001b[0mfunc\u001b[0m\u001b[1;33m,\u001b[0m \u001b[1;33m*\u001b[0m\u001b[1;33m(\u001b[0m\u001b[0mextras\u001b[0m \u001b[1;33m+\u001b[0m \u001b[0margs\u001b[0m\u001b[1;33m)\u001b[0m\u001b[1;33m,\u001b[0m \u001b[1;33m**\u001b[0m\u001b[0mkw\u001b[0m\u001b[1;33m)\u001b[0m\u001b[1;33m\u001b[0m\u001b[1;33m\u001b[0m\u001b[0m\n\u001b[0m\u001b[0;32m    232\u001b[0m     \u001b[0mfun\u001b[0m\u001b[1;33m.\u001b[0m\u001b[0m__name__\u001b[0m \u001b[1;33m=\u001b[0m \u001b[0mfunc\u001b[0m\u001b[1;33m.\u001b[0m\u001b[0m__name__\u001b[0m\u001b[1;33m\u001b[0m\u001b[1;33m\u001b[0m\u001b[0m\n\u001b[0;32m    233\u001b[0m     \u001b[0mfun\u001b[0m\u001b[1;33m.\u001b[0m\u001b[0m__doc__\u001b[0m \u001b[1;33m=\u001b[0m \u001b[0mfunc\u001b[0m\u001b[1;33m.\u001b[0m\u001b[0m__doc__\u001b[0m\u001b[1;33m\u001b[0m\u001b[1;33m\u001b[0m\u001b[0m\n",
      "\u001b[1;32mC:\\tools\\Anaconda3\\lib\\site-packages\\IPython\\core\\magic.py\u001b[0m in \u001b[0;36m<lambda>\u001b[1;34m(f, *a, **k)\u001b[0m\n\u001b[0;32m    185\u001b[0m     \u001b[1;31m# but it's overkill for just that one bit of state.\u001b[0m\u001b[1;33m\u001b[0m\u001b[1;33m\u001b[0m\u001b[1;33m\u001b[0m\u001b[0m\n\u001b[0;32m    186\u001b[0m     \u001b[1;32mdef\u001b[0m \u001b[0mmagic_deco\u001b[0m\u001b[1;33m(\u001b[0m\u001b[0marg\u001b[0m\u001b[1;33m)\u001b[0m\u001b[1;33m:\u001b[0m\u001b[1;33m\u001b[0m\u001b[1;33m\u001b[0m\u001b[0m\n\u001b[1;32m--> 187\u001b[1;33m         \u001b[0mcall\u001b[0m \u001b[1;33m=\u001b[0m \u001b[1;32mlambda\u001b[0m \u001b[0mf\u001b[0m\u001b[1;33m,\u001b[0m \u001b[1;33m*\u001b[0m\u001b[0ma\u001b[0m\u001b[1;33m,\u001b[0m \u001b[1;33m**\u001b[0m\u001b[0mk\u001b[0m\u001b[1;33m:\u001b[0m \u001b[0mf\u001b[0m\u001b[1;33m(\u001b[0m\u001b[1;33m*\u001b[0m\u001b[0ma\u001b[0m\u001b[1;33m,\u001b[0m \u001b[1;33m**\u001b[0m\u001b[0mk\u001b[0m\u001b[1;33m)\u001b[0m\u001b[1;33m\u001b[0m\u001b[1;33m\u001b[0m\u001b[0m\n\u001b[0m\u001b[0;32m    188\u001b[0m \u001b[1;33m\u001b[0m\u001b[0m\n\u001b[0;32m    189\u001b[0m         \u001b[1;32mif\u001b[0m \u001b[0mcallable\u001b[0m\u001b[1;33m(\u001b[0m\u001b[0marg\u001b[0m\u001b[1;33m)\u001b[0m\u001b[1;33m:\u001b[0m\u001b[1;33m\u001b[0m\u001b[1;33m\u001b[0m\u001b[0m\n",
      "\u001b[1;32mC:\\tools\\Anaconda3\\lib\\site-packages\\IPython\\core\\magics\\execution.py\u001b[0m in \u001b[0;36mtimeit\u001b[1;34m(self, line, cell, local_ns)\u001b[0m\n\u001b[0;32m   1171\u001b[0m                     \u001b[1;32mbreak\u001b[0m\u001b[1;33m\u001b[0m\u001b[1;33m\u001b[0m\u001b[0m\n\u001b[0;32m   1172\u001b[0m \u001b[1;33m\u001b[0m\u001b[0m\n\u001b[1;32m-> 1173\u001b[1;33m         \u001b[0mall_runs\u001b[0m \u001b[1;33m=\u001b[0m \u001b[0mtimer\u001b[0m\u001b[1;33m.\u001b[0m\u001b[0mrepeat\u001b[0m\u001b[1;33m(\u001b[0m\u001b[0mrepeat\u001b[0m\u001b[1;33m,\u001b[0m \u001b[0mnumber\u001b[0m\u001b[1;33m)\u001b[0m\u001b[1;33m\u001b[0m\u001b[1;33m\u001b[0m\u001b[0m\n\u001b[0m\u001b[0;32m   1174\u001b[0m         \u001b[0mbest\u001b[0m \u001b[1;33m=\u001b[0m \u001b[0mmin\u001b[0m\u001b[1;33m(\u001b[0m\u001b[0mall_runs\u001b[0m\u001b[1;33m)\u001b[0m \u001b[1;33m/\u001b[0m \u001b[0mnumber\u001b[0m\u001b[1;33m\u001b[0m\u001b[1;33m\u001b[0m\u001b[0m\n\u001b[0;32m   1175\u001b[0m         \u001b[0mworst\u001b[0m \u001b[1;33m=\u001b[0m \u001b[0mmax\u001b[0m\u001b[1;33m(\u001b[0m\u001b[0mall_runs\u001b[0m\u001b[1;33m)\u001b[0m \u001b[1;33m/\u001b[0m \u001b[0mnumber\u001b[0m\u001b[1;33m\u001b[0m\u001b[1;33m\u001b[0m\u001b[0m\n",
      "\u001b[1;32mC:\\tools\\Anaconda3\\lib\\timeit.py\u001b[0m in \u001b[0;36mrepeat\u001b[1;34m(self, repeat, number)\u001b[0m\n\u001b[0;32m    203\u001b[0m         \u001b[0mr\u001b[0m \u001b[1;33m=\u001b[0m \u001b[1;33m[\u001b[0m\u001b[1;33m]\u001b[0m\u001b[1;33m\u001b[0m\u001b[1;33m\u001b[0m\u001b[0m\n\u001b[0;32m    204\u001b[0m         \u001b[1;32mfor\u001b[0m \u001b[0mi\u001b[0m \u001b[1;32min\u001b[0m \u001b[0mrange\u001b[0m\u001b[1;33m(\u001b[0m\u001b[0mrepeat\u001b[0m\u001b[1;33m)\u001b[0m\u001b[1;33m:\u001b[0m\u001b[1;33m\u001b[0m\u001b[1;33m\u001b[0m\u001b[0m\n\u001b[1;32m--> 205\u001b[1;33m             \u001b[0mt\u001b[0m \u001b[1;33m=\u001b[0m \u001b[0mself\u001b[0m\u001b[1;33m.\u001b[0m\u001b[0mtimeit\u001b[0m\u001b[1;33m(\u001b[0m\u001b[0mnumber\u001b[0m\u001b[1;33m)\u001b[0m\u001b[1;33m\u001b[0m\u001b[1;33m\u001b[0m\u001b[0m\n\u001b[0m\u001b[0;32m    206\u001b[0m             \u001b[0mr\u001b[0m\u001b[1;33m.\u001b[0m\u001b[0mappend\u001b[0m\u001b[1;33m(\u001b[0m\u001b[0mt\u001b[0m\u001b[1;33m)\u001b[0m\u001b[1;33m\u001b[0m\u001b[1;33m\u001b[0m\u001b[0m\n\u001b[0;32m    207\u001b[0m         \u001b[1;32mreturn\u001b[0m \u001b[0mr\u001b[0m\u001b[1;33m\u001b[0m\u001b[1;33m\u001b[0m\u001b[0m\n",
      "\u001b[1;32mC:\\tools\\Anaconda3\\lib\\site-packages\\IPython\\core\\magics\\execution.py\u001b[0m in \u001b[0;36mtimeit\u001b[1;34m(self, number)\u001b[0m\n\u001b[0;32m    167\u001b[0m         \u001b[0mgc\u001b[0m\u001b[1;33m.\u001b[0m\u001b[0mdisable\u001b[0m\u001b[1;33m(\u001b[0m\u001b[1;33m)\u001b[0m\u001b[1;33m\u001b[0m\u001b[1;33m\u001b[0m\u001b[0m\n\u001b[0;32m    168\u001b[0m         \u001b[1;32mtry\u001b[0m\u001b[1;33m:\u001b[0m\u001b[1;33m\u001b[0m\u001b[1;33m\u001b[0m\u001b[0m\n\u001b[1;32m--> 169\u001b[1;33m             \u001b[0mtiming\u001b[0m \u001b[1;33m=\u001b[0m \u001b[0mself\u001b[0m\u001b[1;33m.\u001b[0m\u001b[0minner\u001b[0m\u001b[1;33m(\u001b[0m\u001b[0mit\u001b[0m\u001b[1;33m,\u001b[0m \u001b[0mself\u001b[0m\u001b[1;33m.\u001b[0m\u001b[0mtimer\u001b[0m\u001b[1;33m)\u001b[0m\u001b[1;33m\u001b[0m\u001b[1;33m\u001b[0m\u001b[0m\n\u001b[0m\u001b[0;32m    170\u001b[0m         \u001b[1;32mfinally\u001b[0m\u001b[1;33m:\u001b[0m\u001b[1;33m\u001b[0m\u001b[1;33m\u001b[0m\u001b[0m\n\u001b[0;32m    171\u001b[0m             \u001b[1;32mif\u001b[0m \u001b[0mgcold\u001b[0m\u001b[1;33m:\u001b[0m\u001b[1;33m\u001b[0m\u001b[1;33m\u001b[0m\u001b[0m\n",
      "\u001b[1;32m<magic-timeit>\u001b[0m in \u001b[0;36minner\u001b[1;34m(_it, _timer)\u001b[0m\n",
      "\u001b[1;32m<ipython-input-19-c72708a7bb75>\u001b[0m in \u001b[0;36mgen_ssn\u001b[1;34m()\u001b[0m\n\u001b[0;32m     16\u001b[0m \u001b[1;33m\u001b[0m\u001b[0m\n\u001b[0;32m     17\u001b[0m \u001b[1;32mdef\u001b[0m \u001b[0mgen_ssn\u001b[0m\u001b[1;33m(\u001b[0m\u001b[1;33m)\u001b[0m\u001b[1;33m:\u001b[0m\u001b[1;33m\u001b[0m\u001b[1;33m\u001b[0m\u001b[0m\n\u001b[1;32m---> 18\u001b[1;33m     \u001b[1;32mreturn\u001b[0m \u001b[0m_ssn_directory\u001b[0m\u001b[1;33m.\u001b[0m\u001b[0mgen_ssn\u001b[0m\u001b[1;33m(\u001b[0m\u001b[1;33m)\u001b[0m\u001b[1;33m\u001b[0m\u001b[1;33m\u001b[0m\u001b[0m\n\u001b[0m",
      "\u001b[1;32m<ipython-input-19-c72708a7bb75>\u001b[0m in \u001b[0;36mgen_ssn\u001b[1;34m(self)\u001b[0m\n\u001b[0;32m     10\u001b[0m             \u001b[0mssn\u001b[0m \u001b[1;33m=\u001b[0m \u001b[0mgen_ssn\u001b[0m\u001b[1;33m(\u001b[0m\u001b[1;33m)\u001b[0m\u001b[1;33m\u001b[0m\u001b[1;33m\u001b[0m\u001b[0m\n\u001b[0;32m     11\u001b[0m         \u001b[1;32melse\u001b[0m\u001b[1;33m:\u001b[0m\u001b[1;33m\u001b[0m\u001b[1;33m\u001b[0m\u001b[0m\n\u001b[1;32m---> 12\u001b[1;33m             \u001b[0mself\u001b[0m\u001b[1;33m.\u001b[0m\u001b[0m_ssns\u001b[0m\u001b[1;33m.\u001b[0m\u001b[0mappend\u001b[0m\u001b[1;33m(\u001b[0m\u001b[0mssn\u001b[0m\u001b[1;33m)\u001b[0m\u001b[1;33m\u001b[0m\u001b[1;33m\u001b[0m\u001b[0m\n\u001b[0m\u001b[0;32m     13\u001b[0m         \u001b[1;32mreturn\u001b[0m \u001b[0mssn\u001b[0m\u001b[1;33m\u001b[0m\u001b[1;33m\u001b[0m\u001b[0m\n\u001b[0;32m     14\u001b[0m \u001b[1;33m\u001b[0m\u001b[0m\n",
      "\u001b[1;31mKeyboardInterrupt\u001b[0m: "
     ]
    }
   ],
   "source": [
    "%timeit for x in range(1000): gen_ssn()"
   ]
  },
  {
   "cell_type": "markdown",
   "id": "09475bd9",
   "metadata": {},
   "source": [
    "### ii. Set-based Implementation"
   ]
  },
  {
   "cell_type": "code",
   "execution_count": 21,
   "id": "e71a2f3a",
   "metadata": {},
   "outputs": [],
   "source": [
    "class SSN:\n",
    "    fake = Faker()\n",
    "    \n",
    "    def __init__(self):\n",
    "        self._ssns = set()\n",
    "        \n",
    "    def gen_ssn(self):\n",
    "        ssn = self.fake.ssn()\n",
    "        if ssn in self._ssns:\n",
    "            ssn = gen_ssn()\n",
    "        else:\n",
    "            self._ssns.add(ssn)\n",
    "        return ssn\n",
    "\n",
    "_ssn_directory = SSN()\n",
    "\n",
    "def gen_ssn():\n",
    "    return _ssn_directory.gen_ssn()"
   ]
  },
  {
   "cell_type": "code",
   "execution_count": 22,
   "id": "6cd5cea5",
   "metadata": {},
   "outputs": [
    {
     "name": "stdout",
     "output_type": "stream",
     "text": [
      "6.96 ms ± 472 µs per loop (mean ± std. dev. of 7 runs, 100 loops each)\n"
     ]
    }
   ],
   "source": [
    "%timeit for x in range(1000): gen_ssn()"
   ]
  },
  {
   "cell_type": "markdown",
   "id": "073e4143",
   "metadata": {},
   "source": [
    "### iii. Faker Native Implementation"
   ]
  },
  {
   "cell_type": "code",
   "execution_count": 23,
   "id": "e350e2e7",
   "metadata": {},
   "outputs": [
    {
     "name": "stdout",
     "output_type": "stream",
     "text": [
      "11.7 ms ± 495 µs per loop (mean ± std. dev. of 7 runs, 100 loops each)\n"
     ]
    }
   ],
   "source": [
    "fake = Faker()\n",
    "%timeit for x in range(1000): fake.unique.ssn()"
   ]
  },
  {
   "cell_type": "markdown",
   "id": "e2b7ab3c",
   "metadata": {},
   "source": [
    "## D. Queues (FIFO/LIFO)"
   ]
  },
  {
   "cell_type": "markdown",
   "id": "98b4ed85",
   "metadata": {},
   "source": [
    "### i. List implementation - O(n)"
   ]
  },
  {
   "cell_type": "code",
   "execution_count": 24,
   "id": "c5fc12e8",
   "metadata": {},
   "outputs": [],
   "source": [
    "pop_list = [i for i in range(100000000)]"
   ]
  },
  {
   "cell_type": "code",
   "execution_count": 25,
   "id": "d1f959b3",
   "metadata": {},
   "outputs": [],
   "source": [
    "def list_popleft(list_):\n",
    "    list_.pop(0)"
   ]
  },
  {
   "cell_type": "code",
   "execution_count": 26,
   "id": "5a72e7f2",
   "metadata": {},
   "outputs": [
    {
     "name": "stdout",
     "output_type": "stream",
     "text": [
      "65 ms ± 429 µs per loop (mean ± std. dev. of 7 runs, 10 loops each)\n"
     ]
    }
   ],
   "source": [
    "%timeit list_popleft(pop_list)"
   ]
  },
  {
   "cell_type": "markdown",
   "id": "c907c11c",
   "metadata": {},
   "source": [
    "### ii. Deque implementation O(1)"
   ]
  },
  {
   "cell_type": "code",
   "execution_count": 27,
   "id": "95678344",
   "metadata": {},
   "outputs": [],
   "source": [
    "pop_deque = deque([i for i in range(100000000)])"
   ]
  },
  {
   "cell_type": "code",
   "execution_count": 28,
   "id": "e7c81028",
   "metadata": {},
   "outputs": [],
   "source": [
    "def deque_pop(deque_):\n",
    "    deque_.popleft()"
   ]
  },
  {
   "cell_type": "code",
   "execution_count": 29,
   "id": "a5d776c5",
   "metadata": {},
   "outputs": [
    {
     "name": "stdout",
     "output_type": "stream",
     "text": [
      "157 ns ± 4.92 ns per loop (mean ± std. dev. of 7 runs, 10000000 loops each)\n"
     ]
    }
   ],
   "source": [
    "%timeit deque_pop(pop_deque)"
   ]
  },
  {
   "cell_type": "markdown",
   "id": "ef1f34b7",
   "metadata": {},
   "source": [
    "## E. Sliding Windows (e.g., Moving Averages)"
   ]
  },
  {
   "cell_type": "markdown",
   "id": "2013bc49",
   "metadata": {},
   "source": [
    "### i. List implementation"
   ]
  },
  {
   "cell_type": "code",
   "execution_count": 30,
   "id": "bd5b5fd4",
   "metadata": {},
   "outputs": [],
   "source": [
    "window = []\n",
    "def add1(val):\n",
    "    window.append(val)\n",
    "    if len(window) > 3:\n",
    "        window.pop(0)\n",
    "        return sum(window)/len(window)"
   ]
  },
  {
   "cell_type": "code",
   "execution_count": 32,
   "id": "455e70f7",
   "metadata": {},
   "outputs": [
    {
     "name": "stdout",
     "output_type": "stream",
     "text": [
      "487 µs ± 37 µs per loop (mean ± std. dev. of 7 runs, 1000 loops each)\n"
     ]
    }
   ],
   "source": [
    "%timeit for x in range(1000): add1(x)"
   ]
  },
  {
   "cell_type": "markdown",
   "id": "bb95f0b9",
   "metadata": {},
   "source": [
    "### ii. Deque implementation"
   ]
  },
  {
   "cell_type": "code",
   "execution_count": 33,
   "id": "79f9007b",
   "metadata": {},
   "outputs": [],
   "source": [
    "window = deque(maxlen=3)\n",
    "def add2(val):\n",
    "    window.append(val)\n",
    "    return sum(window)/len(window)"
   ]
  },
  {
   "cell_type": "code",
   "execution_count": 34,
   "id": "5d5328a0",
   "metadata": {},
   "outputs": [
    {
     "name": "stdout",
     "output_type": "stream",
     "text": [
      "31.8 µs ± 2.57 µs per loop (mean ± std. dev. of 7 runs, 10000 loops each)\n"
     ]
    }
   ],
   "source": [
    "%timeit for x in range(100): add2(x)"
   ]
  },
  {
   "cell_type": "markdown",
   "id": "20929567",
   "metadata": {},
   "source": [
    "## F. Tuple unpacking"
   ]
  },
  {
   "cell_type": "code",
   "execution_count": 35,
   "id": "6b191307",
   "metadata": {},
   "outputs": [],
   "source": [
    "n = 1000\n",
    "pairs = [(x, y) for x, y in zip(range(n), range(n))]"
   ]
  },
  {
   "cell_type": "markdown",
   "id": "e1581363",
   "metadata": {},
   "source": [
    "### Inefficient implementation"
   ]
  },
  {
   "cell_type": "code",
   "execution_count": 36,
   "id": "1729150f",
   "metadata": {},
   "outputs": [],
   "source": [
    "def unpack1(pairs):\n",
    "    out = []\n",
    "    for pair in pairs:\n",
    "        a = pair[0]\n",
    "        b = pair[1]\n",
    "        out.append(a)\n",
    "    return out"
   ]
  },
  {
   "cell_type": "code",
   "execution_count": 37,
   "id": "4267501a",
   "metadata": {},
   "outputs": [
    {
     "name": "stdout",
     "output_type": "stream",
     "text": [
      "120 µs ± 5.34 µs per loop (mean ± std. dev. of 7 runs, 10000 loops each)\n"
     ]
    }
   ],
   "source": [
    "%timeit unpack1(pairs)"
   ]
  },
  {
   "cell_type": "markdown",
   "id": "7b44b22a",
   "metadata": {},
   "source": [
    "### Efficient implementation"
   ]
  },
  {
   "cell_type": "code",
   "execution_count": 38,
   "id": "344f5f3d",
   "metadata": {},
   "outputs": [],
   "source": [
    "def unpack2(pairs):\n",
    "    out = []\n",
    "    for a, b in pairs:\n",
    "        out.append(a)\n",
    "    return out"
   ]
  },
  {
   "cell_type": "code",
   "execution_count": 39,
   "id": "973852fe",
   "metadata": {},
   "outputs": [
    {
     "name": "stdout",
     "output_type": "stream",
     "text": [
      "109 µs ± 8.17 µs per loop (mean ± std. dev. of 7 runs, 10000 loops each)\n"
     ]
    }
   ],
   "source": [
    "%timeit unpack2(pairs)"
   ]
  },
  {
   "cell_type": "markdown",
   "id": "1de51745",
   "metadata": {},
   "source": [
    "## G. Lookup"
   ]
  },
  {
   "cell_type": "code",
   "execution_count": 40,
   "id": "54148e12",
   "metadata": {},
   "outputs": [],
   "source": [
    "n = 100\n",
    "combos_tuple = {(faker.safe_color_name(), faker.currency_name()) for _ in range(n)}\n",
    "combos_list = [[item[0], item[1]] for item in combos_tuple]"
   ]
  },
  {
   "cell_type": "markdown",
   "id": "a5802a65",
   "metadata": {},
   "source": [
    "#### 1. List implementation"
   ]
  },
  {
   "cell_type": "code",
   "execution_count": 41,
   "id": "10c9234d",
   "metadata": {},
   "outputs": [],
   "source": [
    "def lookup_combo(item, iterable):\n",
    "    return item in iterable"
   ]
  },
  {
   "cell_type": "code",
   "execution_count": 42,
   "id": "140d2a7e",
   "metadata": {},
   "outputs": [
    {
     "name": "stdout",
     "output_type": "stream",
     "text": [
      "1.43 µs ± 23.9 ns per loop (mean ± std. dev. of 7 runs, 1000000 loops each)\n"
     ]
    }
   ],
   "source": [
    "%timeit lookup_combo(combos_list[50], combos_list)"
   ]
  },
  {
   "cell_type": "markdown",
   "id": "07f82cb4",
   "metadata": {},
   "source": [
    "#### 2. Tuple implementation"
   ]
  },
  {
   "cell_type": "code",
   "execution_count": 43,
   "id": "78081f6b",
   "metadata": {},
   "outputs": [
    {
     "name": "stdout",
     "output_type": "stream",
     "text": [
      "266 ns ± 6.21 ns per loop (mean ± std. dev. of 7 runs, 1000000 loops each)\n"
     ]
    }
   ],
   "source": [
    "%timeit lookup_combo(tuple(combos_list[50]), combos_tuple)"
   ]
  },
  {
   "cell_type": "markdown",
   "id": "42d005d9",
   "metadata": {},
   "source": [
    "## H. Key Checks"
   ]
  },
  {
   "cell_type": "code",
   "execution_count": 44,
   "id": "68438c5b",
   "metadata": {},
   "outputs": [],
   "source": [
    "n = 100000\n",
    "data = [faker.first_name() for _ in range(n)]"
   ]
  },
  {
   "cell_type": "code",
   "execution_count": 45,
   "id": "eb09bd2a",
   "metadata": {},
   "outputs": [],
   "source": [
    "def counting(data):\n",
    "    d = {}\n",
    "    for key in data:\n",
    "        if key not in d:\n",
    "            d[key] = 0\n",
    "        d[key] += 1\n",
    "    return d"
   ]
  },
  {
   "cell_type": "code",
   "execution_count": 46,
   "id": "52a7756b",
   "metadata": {},
   "outputs": [
    {
     "name": "stdout",
     "output_type": "stream",
     "text": [
      "13.6 ms ± 1.26 ms per loop (mean ± std. dev. of 7 runs, 100 loops each)\n"
     ]
    }
   ],
   "source": [
    "%timeit counting(data)"
   ]
  },
  {
   "cell_type": "code",
   "execution_count": 47,
   "id": "023e8ea3",
   "metadata": {},
   "outputs": [],
   "source": [
    "from collections import defaultdict\n",
    "def counting(data):\n",
    "    d = defaultdict(int)\n",
    "    for key in data:\n",
    "        d[key] += 1\n",
    "    return d"
   ]
  },
  {
   "cell_type": "code",
   "execution_count": 48,
   "id": "af610108",
   "metadata": {},
   "outputs": [
    {
     "name": "stdout",
     "output_type": "stream",
     "text": [
      "10.4 ms ± 1.03 ms per loop (mean ± std. dev. of 7 runs, 100 loops each)\n"
     ]
    }
   ],
   "source": [
    "%timeit counting(data)"
   ]
  },
  {
   "cell_type": "markdown",
   "id": "0336950f",
   "metadata": {},
   "source": [
    "## I. Grouping"
   ]
  },
  {
   "cell_type": "code",
   "execution_count": 49,
   "id": "4b9d8b77",
   "metadata": {},
   "outputs": [],
   "source": [
    "data = list({faker.color_name() for _ in range(1000)})"
   ]
  },
  {
   "cell_type": "markdown",
   "id": "3842c3ba",
   "metadata": {},
   "source": [
    "### i. Manual implementation"
   ]
  },
  {
   "cell_type": "code",
   "execution_count": 50,
   "id": "a69a7d1a",
   "metadata": {},
   "outputs": [],
   "source": [
    "def slow_groupby(data, key_func):\n",
    "    grouped = {}\n",
    "    for item in data:\n",
    "        k = key_func(item)\n",
    "        if k not in grouped:\n",
    "            grouped[k] = []\n",
    "        grouped[k].append(item)\n",
    "    return grouped"
   ]
  },
  {
   "cell_type": "code",
   "execution_count": 51,
   "id": "c28bfe5a",
   "metadata": {},
   "outputs": [
    {
     "name": "stdout",
     "output_type": "stream",
     "text": [
      "31.9 µs ± 1.77 µs per loop (mean ± std. dev. of 7 runs, 10000 loops each)\n"
     ]
    }
   ],
   "source": [
    "%timeit slow_groupby(data, lambda x: x[0])"
   ]
  },
  {
   "cell_type": "markdown",
   "id": "8749d1a7",
   "metadata": {},
   "source": [
    "### ii. Itertools implementation"
   ]
  },
  {
   "cell_type": "code",
   "execution_count": 52,
   "id": "02b32bb3",
   "metadata": {},
   "outputs": [],
   "source": [
    "from itertools import groupby\n",
    "def fast_groupby(data):\n",
    "    return groupby(data, key=lambda x: x[0])"
   ]
  },
  {
   "cell_type": "code",
   "execution_count": 53,
   "id": "a8ab87f7",
   "metadata": {},
   "outputs": [
    {
     "name": "stdout",
     "output_type": "stream",
     "text": [
      "331 ns ± 8.28 ns per loop (mean ± std. dev. of 7 runs, 1000000 loops each)\n"
     ]
    }
   ],
   "source": [
    "%timeit fast_groupby(data)"
   ]
  },
  {
   "cell_type": "markdown",
   "id": "0c98631e",
   "metadata": {},
   "source": [
    "## J. Dictionary Safe Get"
   ]
  },
  {
   "cell_type": "code",
   "execution_count": 54,
   "id": "08304abd",
   "metadata": {},
   "outputs": [],
   "source": [
    "n = 1000000\n",
    "dictionary = {x:random.randint(0, n) for x in range(n)}"
   ]
  },
  {
   "cell_type": "markdown",
   "id": "89ed614f",
   "metadata": {},
   "source": [
    "### i. Manual implementation"
   ]
  },
  {
   "cell_type": "code",
   "execution_count": 55,
   "id": "1cd1f69d",
   "metadata": {},
   "outputs": [],
   "source": [
    "def safe_get1(key, dictionary):\n",
    "    if key in dictionary:\n",
    "        return dictionary[key]\n",
    "    return None"
   ]
  },
  {
   "cell_type": "code",
   "execution_count": 56,
   "id": "faf63c96",
   "metadata": {},
   "outputs": [
    {
     "name": "stdout",
     "output_type": "stream",
     "text": [
      "337 ns ± 21.2 ns per loop (mean ± std. dev. of 7 runs, 1000000 loops each)\n"
     ]
    }
   ],
   "source": [
    "%timeit safe_get1(n/4, dictionary)"
   ]
  },
  {
   "cell_type": "markdown",
   "id": "a997f4ab",
   "metadata": {},
   "source": [
    "### ii. Get implementation"
   ]
  },
  {
   "cell_type": "code",
   "execution_count": 57,
   "id": "ef211a4b",
   "metadata": {},
   "outputs": [],
   "source": [
    "def safe_get2(key, dictionary):\n",
    "    return dictionary.get(key, None)"
   ]
  },
  {
   "cell_type": "code",
   "execution_count": 58,
   "id": "fb0d2296",
   "metadata": {
    "scrolled": true
   },
   "outputs": [
    {
     "name": "stdout",
     "output_type": "stream",
     "text": [
      "240 ns ± 0.506 ns per loop (mean ± std. dev. of 7 runs, 1000000 loops each)\n"
     ]
    }
   ],
   "source": [
    "%timeit safe_get2(n/4, dictionary)"
   ]
  },
  {
   "cell_type": "markdown",
   "id": "6f2e8636",
   "metadata": {},
   "source": [
    "## K. Checking for common members"
   ]
  },
  {
   "cell_type": "code",
   "execution_count": 59,
   "id": "0ecb1f1d",
   "metadata": {},
   "outputs": [],
   "source": [
    "n = 1000\n",
    "lst1 = list([random.randint(0, 10000) for _ in range(n)])\n",
    "lst2 = list([random.randint(0, 10000) for _ in range(n)])"
   ]
  },
  {
   "cell_type": "markdown",
   "id": "c85d66ff",
   "metadata": {},
   "source": [
    "### i. Manual implementation"
   ]
  },
  {
   "cell_type": "code",
   "execution_count": 60,
   "id": "6e5090a8",
   "metadata": {},
   "outputs": [],
   "source": [
    "def common1(lst1, lst2):\n",
    "    common = []\n",
    "    for x in lst1:\n",
    "        if x in lst2:\n",
    "            common.append(x)\n",
    "    return common"
   ]
  },
  {
   "cell_type": "code",
   "execution_count": 61,
   "id": "8a66d28a",
   "metadata": {},
   "outputs": [
    {
     "name": "stdout",
     "output_type": "stream",
     "text": [
      "13.8 ms ± 56.8 µs per loop (mean ± std. dev. of 7 runs, 100 loops each)\n"
     ]
    }
   ],
   "source": [
    "%timeit common1(lst1, lst2)"
   ]
  },
  {
   "cell_type": "markdown",
   "id": "d2bbb427",
   "metadata": {},
   "source": [
    "### ii. Set implementation"
   ]
  },
  {
   "cell_type": "code",
   "execution_count": 62,
   "id": "cdbfa9be",
   "metadata": {},
   "outputs": [],
   "source": [
    "def common2(lst1, lst2):\n",
    "    return set(lst1) & set(lst2)"
   ]
  },
  {
   "cell_type": "code",
   "execution_count": 63,
   "id": "1ce7ee25",
   "metadata": {},
   "outputs": [
    {
     "name": "stdout",
     "output_type": "stream",
     "text": [
      "76.7 µs ± 164 ns per loop (mean ± std. dev. of 7 runs, 10000 loops each)\n"
     ]
    }
   ],
   "source": [
    "%timeit common2(lst1, lst2)"
   ]
  },
  {
   "cell_type": "markdown",
   "id": "aebff53d",
   "metadata": {},
   "source": [
    "## L. Sorted Insertion"
   ]
  },
  {
   "cell_type": "code",
   "execution_count": 64,
   "id": "c26da8e1",
   "metadata": {},
   "outputs": [],
   "source": [
    "n = 10\n",
    "new_item = 'Ryan'\n",
    "lst = sorted([faker.name() for _ in range(n)])"
   ]
  },
  {
   "cell_type": "markdown",
   "id": "e6d945a2",
   "metadata": {},
   "source": [
    "### i. Manual implementation"
   ]
  },
  {
   "cell_type": "code",
   "execution_count": 65,
   "id": "7b5752bf",
   "metadata": {},
   "outputs": [],
   "source": [
    "def manual_insert(sorted_list, item):\n",
    "    for i in range(len(sorted_list)):\n",
    "        if item < sorted_list[i]:\n",
    "            sorted_list.insert(i, item)\n",
    "            return sorted_list\n",
    "    sorted_list.append(item)\n",
    "    return sorted_list"
   ]
  },
  {
   "cell_type": "code",
   "execution_count": 66,
   "id": "920575be",
   "metadata": {},
   "outputs": [
    {
     "ename": "KeyboardInterrupt",
     "evalue": "",
     "output_type": "error",
     "traceback": [
      "\u001b[1;31m---------------------------------------------------------------------------\u001b[0m",
      "\u001b[1;31mKeyboardInterrupt\u001b[0m                         Traceback (most recent call last)",
      "\u001b[1;32m<ipython-input-66-b19e267a566e>\u001b[0m in \u001b[0;36m<module>\u001b[1;34m\u001b[0m\n\u001b[1;32m----> 1\u001b[1;33m \u001b[0mget_ipython\u001b[0m\u001b[1;33m(\u001b[0m\u001b[1;33m)\u001b[0m\u001b[1;33m.\u001b[0m\u001b[0mrun_line_magic\u001b[0m\u001b[1;33m(\u001b[0m\u001b[1;34m'timeit'\u001b[0m\u001b[1;33m,\u001b[0m \u001b[1;34m'for x in range(100): manual_insert(lst, new_item)'\u001b[0m\u001b[1;33m)\u001b[0m\u001b[1;33m\u001b[0m\u001b[1;33m\u001b[0m\u001b[0m\n\u001b[0m",
      "\u001b[1;32mC:\\tools\\Anaconda3\\lib\\site-packages\\IPython\\core\\interactiveshell.py\u001b[0m in \u001b[0;36mrun_line_magic\u001b[1;34m(self, magic_name, line, _stack_depth)\u001b[0m\n\u001b[0;32m   2342\u001b[0m                 \u001b[0mkwargs\u001b[0m\u001b[1;33m[\u001b[0m\u001b[1;34m'local_ns'\u001b[0m\u001b[1;33m]\u001b[0m \u001b[1;33m=\u001b[0m \u001b[0mself\u001b[0m\u001b[1;33m.\u001b[0m\u001b[0mget_local_scope\u001b[0m\u001b[1;33m(\u001b[0m\u001b[0mstack_depth\u001b[0m\u001b[1;33m)\u001b[0m\u001b[1;33m\u001b[0m\u001b[1;33m\u001b[0m\u001b[0m\n\u001b[0;32m   2343\u001b[0m             \u001b[1;32mwith\u001b[0m \u001b[0mself\u001b[0m\u001b[1;33m.\u001b[0m\u001b[0mbuiltin_trap\u001b[0m\u001b[1;33m:\u001b[0m\u001b[1;33m\u001b[0m\u001b[1;33m\u001b[0m\u001b[0m\n\u001b[1;32m-> 2344\u001b[1;33m                 \u001b[0mresult\u001b[0m \u001b[1;33m=\u001b[0m \u001b[0mfn\u001b[0m\u001b[1;33m(\u001b[0m\u001b[1;33m*\u001b[0m\u001b[0margs\u001b[0m\u001b[1;33m,\u001b[0m \u001b[1;33m**\u001b[0m\u001b[0mkwargs\u001b[0m\u001b[1;33m)\u001b[0m\u001b[1;33m\u001b[0m\u001b[1;33m\u001b[0m\u001b[0m\n\u001b[0m\u001b[0;32m   2345\u001b[0m             \u001b[1;32mreturn\u001b[0m \u001b[0mresult\u001b[0m\u001b[1;33m\u001b[0m\u001b[1;33m\u001b[0m\u001b[0m\n\u001b[0;32m   2346\u001b[0m \u001b[1;33m\u001b[0m\u001b[0m\n",
      "\u001b[1;32mC:\\tools\\Anaconda3\\lib\\site-packages\\decorator.py\u001b[0m in \u001b[0;36mfun\u001b[1;34m(*args, **kw)\u001b[0m\n\u001b[0;32m    229\u001b[0m             \u001b[1;32mif\u001b[0m \u001b[1;32mnot\u001b[0m \u001b[0mkwsyntax\u001b[0m\u001b[1;33m:\u001b[0m\u001b[1;33m\u001b[0m\u001b[1;33m\u001b[0m\u001b[0m\n\u001b[0;32m    230\u001b[0m                 \u001b[0margs\u001b[0m\u001b[1;33m,\u001b[0m \u001b[0mkw\u001b[0m \u001b[1;33m=\u001b[0m \u001b[0mfix\u001b[0m\u001b[1;33m(\u001b[0m\u001b[0margs\u001b[0m\u001b[1;33m,\u001b[0m \u001b[0mkw\u001b[0m\u001b[1;33m,\u001b[0m \u001b[0msig\u001b[0m\u001b[1;33m)\u001b[0m\u001b[1;33m\u001b[0m\u001b[1;33m\u001b[0m\u001b[0m\n\u001b[1;32m--> 231\u001b[1;33m             \u001b[1;32mreturn\u001b[0m \u001b[0mcaller\u001b[0m\u001b[1;33m(\u001b[0m\u001b[0mfunc\u001b[0m\u001b[1;33m,\u001b[0m \u001b[1;33m*\u001b[0m\u001b[1;33m(\u001b[0m\u001b[0mextras\u001b[0m \u001b[1;33m+\u001b[0m \u001b[0margs\u001b[0m\u001b[1;33m)\u001b[0m\u001b[1;33m,\u001b[0m \u001b[1;33m**\u001b[0m\u001b[0mkw\u001b[0m\u001b[1;33m)\u001b[0m\u001b[1;33m\u001b[0m\u001b[1;33m\u001b[0m\u001b[0m\n\u001b[0m\u001b[0;32m    232\u001b[0m     \u001b[0mfun\u001b[0m\u001b[1;33m.\u001b[0m\u001b[0m__name__\u001b[0m \u001b[1;33m=\u001b[0m \u001b[0mfunc\u001b[0m\u001b[1;33m.\u001b[0m\u001b[0m__name__\u001b[0m\u001b[1;33m\u001b[0m\u001b[1;33m\u001b[0m\u001b[0m\n\u001b[0;32m    233\u001b[0m     \u001b[0mfun\u001b[0m\u001b[1;33m.\u001b[0m\u001b[0m__doc__\u001b[0m \u001b[1;33m=\u001b[0m \u001b[0mfunc\u001b[0m\u001b[1;33m.\u001b[0m\u001b[0m__doc__\u001b[0m\u001b[1;33m\u001b[0m\u001b[1;33m\u001b[0m\u001b[0m\n",
      "\u001b[1;32mC:\\tools\\Anaconda3\\lib\\site-packages\\IPython\\core\\magic.py\u001b[0m in \u001b[0;36m<lambda>\u001b[1;34m(f, *a, **k)\u001b[0m\n\u001b[0;32m    185\u001b[0m     \u001b[1;31m# but it's overkill for just that one bit of state.\u001b[0m\u001b[1;33m\u001b[0m\u001b[1;33m\u001b[0m\u001b[1;33m\u001b[0m\u001b[0m\n\u001b[0;32m    186\u001b[0m     \u001b[1;32mdef\u001b[0m \u001b[0mmagic_deco\u001b[0m\u001b[1;33m(\u001b[0m\u001b[0marg\u001b[0m\u001b[1;33m)\u001b[0m\u001b[1;33m:\u001b[0m\u001b[1;33m\u001b[0m\u001b[1;33m\u001b[0m\u001b[0m\n\u001b[1;32m--> 187\u001b[1;33m         \u001b[0mcall\u001b[0m \u001b[1;33m=\u001b[0m \u001b[1;32mlambda\u001b[0m \u001b[0mf\u001b[0m\u001b[1;33m,\u001b[0m \u001b[1;33m*\u001b[0m\u001b[0ma\u001b[0m\u001b[1;33m,\u001b[0m \u001b[1;33m**\u001b[0m\u001b[0mk\u001b[0m\u001b[1;33m:\u001b[0m \u001b[0mf\u001b[0m\u001b[1;33m(\u001b[0m\u001b[1;33m*\u001b[0m\u001b[0ma\u001b[0m\u001b[1;33m,\u001b[0m \u001b[1;33m**\u001b[0m\u001b[0mk\u001b[0m\u001b[1;33m)\u001b[0m\u001b[1;33m\u001b[0m\u001b[1;33m\u001b[0m\u001b[0m\n\u001b[0m\u001b[0;32m    188\u001b[0m \u001b[1;33m\u001b[0m\u001b[0m\n\u001b[0;32m    189\u001b[0m         \u001b[1;32mif\u001b[0m \u001b[0mcallable\u001b[0m\u001b[1;33m(\u001b[0m\u001b[0marg\u001b[0m\u001b[1;33m)\u001b[0m\u001b[1;33m:\u001b[0m\u001b[1;33m\u001b[0m\u001b[1;33m\u001b[0m\u001b[0m\n",
      "\u001b[1;32mC:\\tools\\Anaconda3\\lib\\site-packages\\IPython\\core\\magics\\execution.py\u001b[0m in \u001b[0;36mtimeit\u001b[1;34m(self, line, cell, local_ns)\u001b[0m\n\u001b[0;32m   1171\u001b[0m                     \u001b[1;32mbreak\u001b[0m\u001b[1;33m\u001b[0m\u001b[1;33m\u001b[0m\u001b[0m\n\u001b[0;32m   1172\u001b[0m \u001b[1;33m\u001b[0m\u001b[0m\n\u001b[1;32m-> 1173\u001b[1;33m         \u001b[0mall_runs\u001b[0m \u001b[1;33m=\u001b[0m \u001b[0mtimer\u001b[0m\u001b[1;33m.\u001b[0m\u001b[0mrepeat\u001b[0m\u001b[1;33m(\u001b[0m\u001b[0mrepeat\u001b[0m\u001b[1;33m,\u001b[0m \u001b[0mnumber\u001b[0m\u001b[1;33m)\u001b[0m\u001b[1;33m\u001b[0m\u001b[1;33m\u001b[0m\u001b[0m\n\u001b[0m\u001b[0;32m   1174\u001b[0m         \u001b[0mbest\u001b[0m \u001b[1;33m=\u001b[0m \u001b[0mmin\u001b[0m\u001b[1;33m(\u001b[0m\u001b[0mall_runs\u001b[0m\u001b[1;33m)\u001b[0m \u001b[1;33m/\u001b[0m \u001b[0mnumber\u001b[0m\u001b[1;33m\u001b[0m\u001b[1;33m\u001b[0m\u001b[0m\n\u001b[0;32m   1175\u001b[0m         \u001b[0mworst\u001b[0m \u001b[1;33m=\u001b[0m \u001b[0mmax\u001b[0m\u001b[1;33m(\u001b[0m\u001b[0mall_runs\u001b[0m\u001b[1;33m)\u001b[0m \u001b[1;33m/\u001b[0m \u001b[0mnumber\u001b[0m\u001b[1;33m\u001b[0m\u001b[1;33m\u001b[0m\u001b[0m\n",
      "\u001b[1;32mC:\\tools\\Anaconda3\\lib\\timeit.py\u001b[0m in \u001b[0;36mrepeat\u001b[1;34m(self, repeat, number)\u001b[0m\n\u001b[0;32m    203\u001b[0m         \u001b[0mr\u001b[0m \u001b[1;33m=\u001b[0m \u001b[1;33m[\u001b[0m\u001b[1;33m]\u001b[0m\u001b[1;33m\u001b[0m\u001b[1;33m\u001b[0m\u001b[0m\n\u001b[0;32m    204\u001b[0m         \u001b[1;32mfor\u001b[0m \u001b[0mi\u001b[0m \u001b[1;32min\u001b[0m \u001b[0mrange\u001b[0m\u001b[1;33m(\u001b[0m\u001b[0mrepeat\u001b[0m\u001b[1;33m)\u001b[0m\u001b[1;33m:\u001b[0m\u001b[1;33m\u001b[0m\u001b[1;33m\u001b[0m\u001b[0m\n\u001b[1;32m--> 205\u001b[1;33m             \u001b[0mt\u001b[0m \u001b[1;33m=\u001b[0m \u001b[0mself\u001b[0m\u001b[1;33m.\u001b[0m\u001b[0mtimeit\u001b[0m\u001b[1;33m(\u001b[0m\u001b[0mnumber\u001b[0m\u001b[1;33m)\u001b[0m\u001b[1;33m\u001b[0m\u001b[1;33m\u001b[0m\u001b[0m\n\u001b[0m\u001b[0;32m    206\u001b[0m             \u001b[0mr\u001b[0m\u001b[1;33m.\u001b[0m\u001b[0mappend\u001b[0m\u001b[1;33m(\u001b[0m\u001b[0mt\u001b[0m\u001b[1;33m)\u001b[0m\u001b[1;33m\u001b[0m\u001b[1;33m\u001b[0m\u001b[0m\n\u001b[0;32m    207\u001b[0m         \u001b[1;32mreturn\u001b[0m \u001b[0mr\u001b[0m\u001b[1;33m\u001b[0m\u001b[1;33m\u001b[0m\u001b[0m\n",
      "\u001b[1;32mC:\\tools\\Anaconda3\\lib\\site-packages\\IPython\\core\\magics\\execution.py\u001b[0m in \u001b[0;36mtimeit\u001b[1;34m(self, number)\u001b[0m\n\u001b[0;32m    167\u001b[0m         \u001b[0mgc\u001b[0m\u001b[1;33m.\u001b[0m\u001b[0mdisable\u001b[0m\u001b[1;33m(\u001b[0m\u001b[1;33m)\u001b[0m\u001b[1;33m\u001b[0m\u001b[1;33m\u001b[0m\u001b[0m\n\u001b[0;32m    168\u001b[0m         \u001b[1;32mtry\u001b[0m\u001b[1;33m:\u001b[0m\u001b[1;33m\u001b[0m\u001b[1;33m\u001b[0m\u001b[0m\n\u001b[1;32m--> 169\u001b[1;33m             \u001b[0mtiming\u001b[0m \u001b[1;33m=\u001b[0m \u001b[0mself\u001b[0m\u001b[1;33m.\u001b[0m\u001b[0minner\u001b[0m\u001b[1;33m(\u001b[0m\u001b[0mit\u001b[0m\u001b[1;33m,\u001b[0m \u001b[0mself\u001b[0m\u001b[1;33m.\u001b[0m\u001b[0mtimer\u001b[0m\u001b[1;33m)\u001b[0m\u001b[1;33m\u001b[0m\u001b[1;33m\u001b[0m\u001b[0m\n\u001b[0m\u001b[0;32m    170\u001b[0m         \u001b[1;32mfinally\u001b[0m\u001b[1;33m:\u001b[0m\u001b[1;33m\u001b[0m\u001b[1;33m\u001b[0m\u001b[0m\n\u001b[0;32m    171\u001b[0m             \u001b[1;32mif\u001b[0m \u001b[0mgcold\u001b[0m\u001b[1;33m:\u001b[0m\u001b[1;33m\u001b[0m\u001b[1;33m\u001b[0m\u001b[0m\n",
      "\u001b[1;32m<magic-timeit>\u001b[0m in \u001b[0;36minner\u001b[1;34m(_it, _timer)\u001b[0m\n",
      "\u001b[1;32m<ipython-input-65-62959827c680>\u001b[0m in \u001b[0;36mmanual_insert\u001b[1;34m(sorted_list, item)\u001b[0m\n\u001b[0;32m      1\u001b[0m \u001b[1;32mdef\u001b[0m \u001b[0mmanual_insert\u001b[0m\u001b[1;33m(\u001b[0m\u001b[0msorted_list\u001b[0m\u001b[1;33m,\u001b[0m \u001b[0mitem\u001b[0m\u001b[1;33m)\u001b[0m\u001b[1;33m:\u001b[0m\u001b[1;33m\u001b[0m\u001b[1;33m\u001b[0m\u001b[0m\n\u001b[0;32m      2\u001b[0m     \u001b[1;32mfor\u001b[0m \u001b[0mi\u001b[0m \u001b[1;32min\u001b[0m \u001b[0mrange\u001b[0m\u001b[1;33m(\u001b[0m\u001b[0mlen\u001b[0m\u001b[1;33m(\u001b[0m\u001b[0msorted_list\u001b[0m\u001b[1;33m)\u001b[0m\u001b[1;33m)\u001b[0m\u001b[1;33m:\u001b[0m\u001b[1;33m\u001b[0m\u001b[1;33m\u001b[0m\u001b[0m\n\u001b[1;32m----> 3\u001b[1;33m         \u001b[1;32mif\u001b[0m \u001b[0mitem\u001b[0m \u001b[1;33m<\u001b[0m \u001b[0msorted_list\u001b[0m\u001b[1;33m[\u001b[0m\u001b[0mi\u001b[0m\u001b[1;33m]\u001b[0m\u001b[1;33m:\u001b[0m\u001b[1;33m\u001b[0m\u001b[1;33m\u001b[0m\u001b[0m\n\u001b[0m\u001b[0;32m      4\u001b[0m             \u001b[0msorted_list\u001b[0m\u001b[1;33m.\u001b[0m\u001b[0minsert\u001b[0m\u001b[1;33m(\u001b[0m\u001b[0mi\u001b[0m\u001b[1;33m,\u001b[0m \u001b[0mitem\u001b[0m\u001b[1;33m)\u001b[0m\u001b[1;33m\u001b[0m\u001b[1;33m\u001b[0m\u001b[0m\n\u001b[0;32m      5\u001b[0m             \u001b[1;32mreturn\u001b[0m \u001b[0msorted_list\u001b[0m\u001b[1;33m\u001b[0m\u001b[1;33m\u001b[0m\u001b[0m\n",
      "\u001b[1;31mKeyboardInterrupt\u001b[0m: "
     ]
    }
   ],
   "source": [
    "%timeit for x in range(100): manual_insert(lst, new_item)"
   ]
  },
  {
   "cell_type": "markdown",
   "id": "8a3e7092",
   "metadata": {},
   "source": [
    "### ii. Bisect insort implementation"
   ]
  },
  {
   "cell_type": "code",
   "execution_count": 67,
   "id": "94c979ef",
   "metadata": {},
   "outputs": [],
   "source": [
    "import bisect\n",
    "def bisect_insert(sorted_list, item):\n",
    "    return bisect.insort(sorted_list, item)"
   ]
  },
  {
   "cell_type": "code",
   "execution_count": 68,
   "id": "6e9229ad",
   "metadata": {},
   "outputs": [
    {
     "name": "stdout",
     "output_type": "stream",
     "text": [
      "50.5 µs ± 1.51 µs per loop (mean ± std. dev. of 7 runs, 10000 loops each)\n"
     ]
    }
   ],
   "source": [
    "%timeit for x in range(100): bisect_insert(lst, new_item)"
   ]
  },
  {
   "cell_type": "markdown",
   "id": "7b0cd42f",
   "metadata": {},
   "source": [
    "# 2. Iteration"
   ]
  },
  {
   "cell_type": "code",
   "execution_count": 69,
   "id": "8a4958f0",
   "metadata": {},
   "outputs": [],
   "source": [
    "iterable = range(100000)"
   ]
  },
  {
   "cell_type": "markdown",
   "id": "99fdee81",
   "metadata": {},
   "source": [
    "## A. List Comprehension"
   ]
  },
  {
   "cell_type": "markdown",
   "id": "f3ed6a14",
   "metadata": {},
   "source": [
    "### i. List append implementation"
   ]
  },
  {
   "cell_type": "code",
   "execution_count": 70,
   "id": "afce9487",
   "metadata": {},
   "outputs": [],
   "source": [
    "def lst_looping_1(iterable):\n",
    "    lst = []\n",
    "    for x in iterable:\n",
    "        lst.append(x)\n",
    "    return lst"
   ]
  },
  {
   "cell_type": "code",
   "execution_count": 71,
   "id": "8c1d3030",
   "metadata": {},
   "outputs": [
    {
     "name": "stdout",
     "output_type": "stream",
     "text": [
      "7.97 ms ± 149 µs per loop (mean ± std. dev. of 7 runs, 100 loops each)\n"
     ]
    }
   ],
   "source": [
    "%timeit lst_looping_1(iterable)"
   ]
  },
  {
   "cell_type": "markdown",
   "id": "a2b8c877",
   "metadata": {},
   "source": [
    "### ii. List comprehension implementation"
   ]
  },
  {
   "cell_type": "code",
   "execution_count": 72,
   "id": "a908a6fb",
   "metadata": {},
   "outputs": [],
   "source": [
    "def lst_looping_2(iterable):\n",
    "    return [x for x in iterable]"
   ]
  },
  {
   "cell_type": "code",
   "execution_count": 73,
   "id": "ce7395e7",
   "metadata": {},
   "outputs": [
    {
     "name": "stdout",
     "output_type": "stream",
     "text": [
      "4.58 ms ± 30.9 µs per loop (mean ± std. dev. of 7 runs, 100 loops each)\n"
     ]
    }
   ],
   "source": [
    "%timeit lst_looping_2(iterable)"
   ]
  },
  {
   "cell_type": "markdown",
   "id": "b0543431",
   "metadata": {},
   "source": [
    "### iii. Nested list implementation"
   ]
  },
  {
   "cell_type": "code",
   "execution_count": 74,
   "id": "34ee1e74",
   "metadata": {},
   "outputs": [],
   "source": [
    "def lst_looping_3(iterable):\n",
    "    lst = []\n",
    "    for subitem in iterable:\n",
    "        for x in str(subitem):\n",
    "            lst.append(x)\n",
    "    return lst"
   ]
  },
  {
   "cell_type": "code",
   "execution_count": 75,
   "id": "6db706e1",
   "metadata": {},
   "outputs": [
    {
     "name": "stdout",
     "output_type": "stream",
     "text": [
      "65.5 ms ± 3.68 ms per loop (mean ± std. dev. of 7 runs, 10 loops each)\n"
     ]
    }
   ],
   "source": [
    "%timeit lst_looping_3(iterable)"
   ]
  },
  {
   "cell_type": "markdown",
   "id": "e36ab04b",
   "metadata": {},
   "source": [
    "### iv. Nested list comprehension implementation"
   ]
  },
  {
   "cell_type": "code",
   "execution_count": 76,
   "id": "fa063935",
   "metadata": {},
   "outputs": [],
   "source": [
    "def lst_looping_4(iterable):\n",
    "    return [x for subitem in iterable for x in str(subitem)]"
   ]
  },
  {
   "cell_type": "code",
   "execution_count": 77,
   "id": "24dc7799",
   "metadata": {},
   "outputs": [
    {
     "name": "stdout",
     "output_type": "stream",
     "text": [
      "46.2 ms ± 1.46 ms per loop (mean ± std. dev. of 7 runs, 10 loops each)\n"
     ]
    }
   ],
   "source": [
    "%timeit lst_looping_4(iterable)"
   ]
  },
  {
   "cell_type": "markdown",
   "id": "34d66a1f",
   "metadata": {},
   "source": [
    "## B. Dictionary Comprehension"
   ]
  },
  {
   "cell_type": "code",
   "execution_count": 78,
   "id": "bd82a230",
   "metadata": {},
   "outputs": [],
   "source": [
    "iterable = range(100000)"
   ]
  },
  {
   "cell_type": "markdown",
   "id": "a01f02b7",
   "metadata": {},
   "source": [
    "### i. Dictionary implementation"
   ]
  },
  {
   "cell_type": "code",
   "execution_count": 79,
   "id": "845c6e92",
   "metadata": {},
   "outputs": [],
   "source": [
    "def dict_looping_1(iterable):\n",
    "    dct = {}\n",
    "    for idx, x in enumerate(iterable):\n",
    "        dct[idx] = x\n",
    "    return dct"
   ]
  },
  {
   "cell_type": "code",
   "execution_count": 80,
   "id": "164cc151",
   "metadata": {},
   "outputs": [
    {
     "name": "stdout",
     "output_type": "stream",
     "text": [
      "15 ms ± 280 µs per loop (mean ± std. dev. of 7 runs, 100 loops each)\n"
     ]
    }
   ],
   "source": [
    "%timeit dict_looping_1(iterable)"
   ]
  },
  {
   "cell_type": "markdown",
   "id": "bb6a3e47",
   "metadata": {},
   "source": [
    "### ii. Dictionary comprehension implementation"
   ]
  },
  {
   "cell_type": "code",
   "execution_count": 81,
   "id": "01e09f47",
   "metadata": {},
   "outputs": [],
   "source": [
    "def dict_looping_2(iterable):\n",
    "    return {idx:x for idx, x in enumerate(iterable)}"
   ]
  },
  {
   "cell_type": "code",
   "execution_count": 82,
   "id": "04dfdd41",
   "metadata": {},
   "outputs": [
    {
     "name": "stdout",
     "output_type": "stream",
     "text": [
      "14.4 ms ± 491 µs per loop (mean ± std. dev. of 7 runs, 100 loops each)\n"
     ]
    }
   ],
   "source": [
    "%timeit dict_looping_2(iterable)"
   ]
  },
  {
   "cell_type": "markdown",
   "id": "12887437",
   "metadata": {},
   "source": [
    "### iii. Nested dictionary implementation"
   ]
  },
  {
   "cell_type": "code",
   "execution_count": 83,
   "id": "4989f210",
   "metadata": {},
   "outputs": [],
   "source": [
    "def dict_looping_3(iterable):\n",
    "    dct = {}\n",
    "    for idx, item in enumerate(iterable):\n",
    "        for i, x in enumerate(str(item)):\n",
    "            dct[idx] = {i:x}\n",
    "    return dct"
   ]
  },
  {
   "cell_type": "code",
   "execution_count": 84,
   "id": "3e70e8ba",
   "metadata": {},
   "outputs": [
    {
     "name": "stdout",
     "output_type": "stream",
     "text": [
      "119 ms ± 2.92 ms per loop (mean ± std. dev. of 7 runs, 10 loops each)\n"
     ]
    }
   ],
   "source": [
    "%timeit dict_looping_3(iterable)"
   ]
  },
  {
   "cell_type": "markdown",
   "id": "84465026",
   "metadata": {},
   "source": [
    "### iv. Nested dictionary comprehension implementation"
   ]
  },
  {
   "cell_type": "code",
   "execution_count": 85,
   "id": "7d728a81",
   "metadata": {},
   "outputs": [],
   "source": [
    "def dict_looping_4(iterable):\n",
    "    return {idx:{i:x} for idx, item in enumerate(iterable) for i, x in enumerate(str(item))}"
   ]
  },
  {
   "cell_type": "code",
   "execution_count": 86,
   "id": "49753cdb",
   "metadata": {},
   "outputs": [
    {
     "name": "stdout",
     "output_type": "stream",
     "text": [
      "110 ms ± 2.18 ms per loop (mean ± std. dev. of 7 runs, 10 loops each)\n"
     ]
    }
   ],
   "source": [
    "%timeit dict_looping_4(iterable)"
   ]
  },
  {
   "cell_type": "markdown",
   "id": "3a20f159",
   "metadata": {},
   "source": [
    "## C. Set Comprehension"
   ]
  },
  {
   "cell_type": "code",
   "execution_count": null,
   "id": "13b76148",
   "metadata": {},
   "outputs": [],
   "source": [
    "iterable = range(100000)"
   ]
  },
  {
   "cell_type": "markdown",
   "id": "d2a2b9c7",
   "metadata": {},
   "source": [
    "### i. Set implementation"
   ]
  },
  {
   "cell_type": "code",
   "execution_count": 87,
   "id": "c980e46b",
   "metadata": {},
   "outputs": [],
   "source": [
    "def set_looping_1(iterable):\n",
    "    set_ = set()\n",
    "    for idx, item in enumerate(iterable):\n",
    "        for i, x in enumerate(str(item)):\n",
    "            set_.add((i, x))\n",
    "    return set_"
   ]
  },
  {
   "cell_type": "code",
   "execution_count": 88,
   "id": "c0372f60",
   "metadata": {},
   "outputs": [
    {
     "name": "stdout",
     "output_type": "stream",
     "text": [
      "108 ms ± 6.8 ms per loop (mean ± std. dev. of 7 runs, 10 loops each)\n"
     ]
    }
   ],
   "source": [
    "%timeit set_looping_1(iterable)"
   ]
  },
  {
   "cell_type": "markdown",
   "id": "bc92110b",
   "metadata": {},
   "source": [
    "### ii. Set comprehension implementation"
   ]
  },
  {
   "cell_type": "code",
   "execution_count": 89,
   "id": "dfa6c853",
   "metadata": {},
   "outputs": [],
   "source": [
    "def set_looping_2(iterable):\n",
    "    return {(i,x) for idx, item in enumerate(iterable) for i, x in enumerate(str(item))}"
   ]
  },
  {
   "cell_type": "code",
   "execution_count": 90,
   "id": "b5c5220e",
   "metadata": {
    "scrolled": true
   },
   "outputs": [
    {
     "name": "stdout",
     "output_type": "stream",
     "text": [
      "94.6 ms ± 7.21 ms per loop (mean ± std. dev. of 7 runs, 10 loops each)\n"
     ]
    }
   ],
   "source": [
    "%timeit set_looping_2(iterable)"
   ]
  },
  {
   "cell_type": "markdown",
   "id": "b5f01961",
   "metadata": {},
   "source": [
    "## D. Parallel Iteration"
   ]
  },
  {
   "cell_type": "code",
   "execution_count": 91,
   "id": "81bccc64",
   "metadata": {},
   "outputs": [],
   "source": [
    "n = 10000\n",
    "names = [faker.first_name() for _ in range(n)]\n",
    "ages = [random.randint(0, 100) for _ in range(n)]"
   ]
  },
  {
   "cell_type": "markdown",
   "id": "f7a13814",
   "metadata": {},
   "source": [
    "### i. Index implementation"
   ]
  },
  {
   "cell_type": "code",
   "execution_count": 92,
   "id": "0a786266",
   "metadata": {},
   "outputs": [],
   "source": [
    "def iteration1(a, b):\n",
    "    out = []\n",
    "    for i in range(len(a)):\n",
    "        out.append((a[i], b[i]))\n",
    "    return out"
   ]
  },
  {
   "cell_type": "code",
   "execution_count": 93,
   "id": "31c80578",
   "metadata": {},
   "outputs": [
    {
     "name": "stdout",
     "output_type": "stream",
     "text": [
      "1.43 ms ± 31.7 µs per loop (mean ± std. dev. of 7 runs, 1000 loops each)\n"
     ]
    }
   ],
   "source": [
    "%timeit iteration1(names, ages)"
   ]
  },
  {
   "cell_type": "markdown",
   "id": "6de0a78e",
   "metadata": {},
   "source": [
    "### ii. Zip implementation"
   ]
  },
  {
   "cell_type": "code",
   "execution_count": 94,
   "id": "b78f2305",
   "metadata": {},
   "outputs": [],
   "source": [
    "def iteration2(a, b):\n",
    "    out = []\n",
    "    for x, y in zip(a, b):\n",
    "        out.append((x, y))\n",
    "    return out"
   ]
  },
  {
   "cell_type": "code",
   "execution_count": 95,
   "id": "a0b64007",
   "metadata": {},
   "outputs": [
    {
     "name": "stdout",
     "output_type": "stream",
     "text": [
      "1.18 ms ± 42.5 µs per loop (mean ± std. dev. of 7 runs, 1000 loops each)\n"
     ]
    }
   ],
   "source": [
    "%timeit iteration2(names, ages)"
   ]
  },
  {
   "cell_type": "markdown",
   "id": "e0ac93d8",
   "metadata": {},
   "source": [
    "## E. Combinations"
   ]
  },
  {
   "cell_type": "code",
   "execution_count": 96,
   "id": "63be91d1",
   "metadata": {},
   "outputs": [],
   "source": [
    "n = 1000\n",
    "iterable = list(range(n))"
   ]
  },
  {
   "cell_type": "markdown",
   "id": "82ad07ab",
   "metadata": {},
   "source": [
    "### i. Manual implementation"
   ]
  },
  {
   "cell_type": "code",
   "execution_count": 97,
   "id": "7a63d4ab",
   "metadata": {},
   "outputs": [],
   "source": [
    "def combos1(iterable):\n",
    "    pairs = []\n",
    "    for i in range(len(iterable)):\n",
    "        for j in range(i+1, len(iterable)):\n",
    "            pairs.append((iterable[i], iterable[j]))\n",
    "    return pairs"
   ]
  },
  {
   "cell_type": "code",
   "execution_count": 98,
   "id": "9baa7936",
   "metadata": {},
   "outputs": [
    {
     "name": "stdout",
     "output_type": "stream",
     "text": [
      "87.2 ms ± 2.84 ms per loop (mean ± std. dev. of 7 runs, 10 loops each)\n"
     ]
    }
   ],
   "source": [
    "%timeit combos1(iterable)"
   ]
  },
  {
   "cell_type": "markdown",
   "id": "5cc34090",
   "metadata": {},
   "source": [
    "### ii. Itertools implementation"
   ]
  },
  {
   "cell_type": "code",
   "execution_count": 99,
   "id": "171c9519",
   "metadata": {},
   "outputs": [],
   "source": [
    "from itertools import combinations\n",
    "def combos2(iterable):\n",
    "    return list(combinations(iterable, 2))"
   ]
  },
  {
   "cell_type": "code",
   "execution_count": 100,
   "id": "33c07d8e",
   "metadata": {
    "scrolled": true
   },
   "outputs": [
    {
     "name": "stdout",
     "output_type": "stream",
     "text": [
      "35.3 ms ± 351 µs per loop (mean ± std. dev. of 7 runs, 10 loops each)\n"
     ]
    }
   ],
   "source": [
    "%timeit combos2(iterable)"
   ]
  },
  {
   "cell_type": "markdown",
   "id": "d7af33a3",
   "metadata": {},
   "source": [
    "## Iterating Over Generators"
   ]
  },
  {
   "cell_type": "code",
   "execution_count": 101,
   "id": "805d5c62",
   "metadata": {},
   "outputs": [],
   "source": [
    "n = 10000\n",
    "gen = (x**2 for x in range(n))"
   ]
  },
  {
   "cell_type": "code",
   "execution_count": 106,
   "id": "8ecd7344",
   "metadata": {},
   "outputs": [
    {
     "data": {
      "text/plain": [
       "<generator object <genexpr> at 0x0000024A6ABCF5F0>"
      ]
     },
     "execution_count": 106,
     "metadata": {},
     "output_type": "execute_result"
    }
   ],
   "source": [
    "gen"
   ]
  },
  {
   "cell_type": "markdown",
   "id": "9927ff7d",
   "metadata": {},
   "source": [
    "### i. Loop implementation"
   ]
  },
  {
   "cell_type": "code",
   "execution_count": 102,
   "id": "58a50bf7",
   "metadata": {},
   "outputs": [],
   "source": [
    "def next_item1(gen):\n",
    "    results = []\n",
    "    for item in gen:\n",
    "        results.append(item)\n",
    "    return results"
   ]
  },
  {
   "cell_type": "code",
   "execution_count": 103,
   "id": "4d760070",
   "metadata": {},
   "outputs": [
    {
     "name": "stdout",
     "output_type": "stream",
     "text": [
      "138 ns ± 8.19 ns per loop (mean ± std. dev. of 7 runs, 10000000 loops each)\n"
     ]
    }
   ],
   "source": [
    "%timeit next_item1(gen)"
   ]
  },
  {
   "cell_type": "markdown",
   "id": "b78c4798",
   "metadata": {},
   "source": [
    "### ii. Next implementation"
   ]
  },
  {
   "cell_type": "code",
   "execution_count": 104,
   "id": "7ae6e665",
   "metadata": {},
   "outputs": [],
   "source": [
    "def next_item2(gen):\n",
    "    return next(gen, None)"
   ]
  },
  {
   "cell_type": "code",
   "execution_count": 105,
   "id": "a16c7ac7",
   "metadata": {},
   "outputs": [
    {
     "name": "stdout",
     "output_type": "stream",
     "text": [
      "125 ns ± 4.57 ns per loop (mean ± std. dev. of 7 runs, 10000000 loops each)\n"
     ]
    }
   ],
   "source": [
    "%timeit next_item2(gen)"
   ]
  },
  {
   "cell_type": "markdown",
   "id": "62bcc912",
   "metadata": {},
   "source": [
    "# 3. Strings"
   ]
  },
  {
   "cell_type": "markdown",
   "id": "8883aba8",
   "metadata": {},
   "source": [
    "## A. String Join"
   ]
  },
  {
   "cell_type": "code",
   "execution_count": 107,
   "id": "d0ecdcb6",
   "metadata": {},
   "outputs": [],
   "source": [
    "words = [faker.word() for _ in range(1000)]"
   ]
  },
  {
   "cell_type": "markdown",
   "id": "117e50c1",
   "metadata": {},
   "source": [
    "### i. Concatenation implementation"
   ]
  },
  {
   "cell_type": "code",
   "execution_count": 108,
   "id": "f95ddf35",
   "metadata": {},
   "outputs": [],
   "source": [
    "def concat1(strings):\n",
    "    s = ''\n",
    "    for string in strings:\n",
    "        s += string\n",
    "    return s"
   ]
  },
  {
   "cell_type": "code",
   "execution_count": 109,
   "id": "2aa6bc94",
   "metadata": {},
   "outputs": [
    {
     "name": "stdout",
     "output_type": "stream",
     "text": [
      "180 µs ± 8.56 µs per loop (mean ± std. dev. of 7 runs, 10000 loops each)\n"
     ]
    }
   ],
   "source": [
    "%timeit concat1(words)"
   ]
  },
  {
   "cell_type": "markdown",
   "id": "c8dfaefb",
   "metadata": {},
   "source": [
    "### ii. Join implementation"
   ]
  },
  {
   "cell_type": "code",
   "execution_count": 110,
   "id": "063d1e81",
   "metadata": {},
   "outputs": [],
   "source": [
    "def concat2(strings):\n",
    "    return ''.join(strings)"
   ]
  },
  {
   "cell_type": "code",
   "execution_count": 111,
   "id": "c5c72e4c",
   "metadata": {},
   "outputs": [
    {
     "name": "stdout",
     "output_type": "stream",
     "text": [
      "14.7 µs ± 174 ns per loop (mean ± std. dev. of 7 runs, 100000 loops each)\n"
     ]
    }
   ],
   "source": [
    "%timeit concat2(words)"
   ]
  },
  {
   "cell_type": "markdown",
   "id": "c1192b97",
   "metadata": {},
   "source": [
    "## B. String Search"
   ]
  },
  {
   "cell_type": "code",
   "execution_count": 112,
   "id": "ab7e3ade",
   "metadata": {},
   "outputs": [],
   "source": [
    "string = 'hello'"
   ]
  },
  {
   "cell_type": "markdown",
   "id": "a2c2a738",
   "metadata": {},
   "source": [
    "### i. Manual implementation "
   ]
  },
  {
   "cell_type": "code",
   "execution_count": 113,
   "id": "b47b05a4",
   "metadata": {},
   "outputs": [],
   "source": [
    "def find1(string, char):\n",
    "    found = False\n",
    "    for c in string:\n",
    "        if c == char:\n",
    "            found = True\n",
    "            break\n",
    "    return found"
   ]
  },
  {
   "cell_type": "code",
   "execution_count": 114,
   "id": "e16b0191",
   "metadata": {},
   "outputs": [
    {
     "name": "stdout",
     "output_type": "stream",
     "text": [
      "267 ns ± 2.32 ns per loop (mean ± std. dev. of 7 runs, 1000000 loops each)\n"
     ]
    }
   ],
   "source": [
    "%timeit find1(string, 'l')"
   ]
  },
  {
   "cell_type": "markdown",
   "id": "33c4dc32",
   "metadata": {},
   "source": [
    "### ii. IN implementation"
   ]
  },
  {
   "cell_type": "code",
   "execution_count": 115,
   "id": "4c67e862",
   "metadata": {},
   "outputs": [],
   "source": [
    "def find2(string, char):\n",
    "    return char in string"
   ]
  },
  {
   "cell_type": "code",
   "execution_count": 116,
   "id": "7d2f7aa8",
   "metadata": {},
   "outputs": [
    {
     "name": "stdout",
     "output_type": "stream",
     "text": [
      "128 ns ± 6.25 ns per loop (mean ± std. dev. of 7 runs, 10000000 loops each)\n"
     ]
    }
   ],
   "source": [
    "%timeit find2(string, 'l')"
   ]
  },
  {
   "cell_type": "markdown",
   "id": "392a212c",
   "metadata": {},
   "source": [
    "## C. Find"
   ]
  },
  {
   "cell_type": "code",
   "execution_count": 117,
   "id": "37c449f9",
   "metadata": {},
   "outputs": [],
   "source": [
    "n = 10000\n",
    "iterable = [str(random.randint(0,100)) for _ in range(n)]"
   ]
  },
  {
   "cell_type": "markdown",
   "id": "b4da01e6",
   "metadata": {},
   "source": [
    "### i. Manual implementation"
   ]
  },
  {
   "cell_type": "code",
   "execution_count": 118,
   "id": "e88dcad4",
   "metadata": {},
   "outputs": [],
   "source": [
    "def str_find1(iterable):\n",
    "    matches = []\n",
    "    for item in iterable:\n",
    "        if re.match(r\"\\d+\", item):\n",
    "            matches.append(item)\n",
    "    return matches"
   ]
  },
  {
   "cell_type": "code",
   "execution_count": 119,
   "id": "112647a7",
   "metadata": {},
   "outputs": [
    {
     "name": "stdout",
     "output_type": "stream",
     "text": [
      "8.49 ms ± 367 µs per loop (mean ± std. dev. of 7 runs, 100 loops each)\n"
     ]
    }
   ],
   "source": [
    "%timeit str_find1(iterable)"
   ]
  },
  {
   "cell_type": "markdown",
   "id": "a16339ab",
   "metadata": {},
   "source": [
    "### ii. re.findall implementation"
   ]
  },
  {
   "cell_type": "code",
   "execution_count": 120,
   "id": "75bfa2d9",
   "metadata": {},
   "outputs": [],
   "source": [
    "def str_find2(iterable):\n",
    "    return re.findall(r\"\\d+\", \" \".join(iterable))"
   ]
  },
  {
   "cell_type": "code",
   "execution_count": 121,
   "id": "5e56dc02",
   "metadata": {},
   "outputs": [
    {
     "name": "stdout",
     "output_type": "stream",
     "text": [
      "2.07 ms ± 50.8 µs per loop (mean ± std. dev. of 7 runs, 100 loops each)\n"
     ]
    }
   ],
   "source": [
    "%timeit str_find2(iterable)"
   ]
  },
  {
   "cell_type": "markdown",
   "id": "9cc01526",
   "metadata": {},
   "source": [
    "### iii. Compiled re implementation"
   ]
  },
  {
   "cell_type": "code",
   "execution_count": 122,
   "id": "b7a75e76",
   "metadata": {},
   "outputs": [],
   "source": [
    "pattern = re.compile(r\"\\d+\")\n",
    "def str_find3(pattern, iterable):\n",
    "    return pattern.findall(\" \".join(iterable))"
   ]
  },
  {
   "cell_type": "code",
   "execution_count": 124,
   "id": "6c9601ee",
   "metadata": {},
   "outputs": [
    {
     "name": "stdout",
     "output_type": "stream",
     "text": [
      "2.12 ms ± 57.7 µs per loop (mean ± std. dev. of 7 runs, 100 loops each)\n"
     ]
    }
   ],
   "source": [
    "%timeit str_find3(pattern, iterable)"
   ]
  },
  {
   "cell_type": "markdown",
   "id": "083e980d",
   "metadata": {},
   "source": [
    "# 4. Functional"
   ]
  },
  {
   "cell_type": "markdown",
   "id": "09bae5f8",
   "metadata": {},
   "source": [
    "## A. Return Values"
   ]
  },
  {
   "cell_type": "markdown",
   "id": "0d70bf1c",
   "metadata": {},
   "source": [
    "### i. List implementation"
   ]
  },
  {
   "cell_type": "code",
   "execution_count": 125,
   "id": "6c9d8ece",
   "metadata": {},
   "outputs": [],
   "source": [
    "def get_user_info():\n",
    "    return ['Alice', 30]"
   ]
  },
  {
   "cell_type": "code",
   "execution_count": 126,
   "id": "c3e685b6",
   "metadata": {},
   "outputs": [
    {
     "name": "stdout",
     "output_type": "stream",
     "text": [
      "109 ns ± 6.25 ns per loop (mean ± std. dev. of 7 runs, 10000000 loops each)\n"
     ]
    }
   ],
   "source": [
    "%timeit get_user_info()"
   ]
  },
  {
   "cell_type": "markdown",
   "id": "14a72116",
   "metadata": {},
   "source": [
    "### ii. Tuple implementation"
   ]
  },
  {
   "cell_type": "code",
   "execution_count": 127,
   "id": "d4feee7e",
   "metadata": {},
   "outputs": [],
   "source": [
    "def get_user_info():\n",
    "    return ('Alice', 30)"
   ]
  },
  {
   "cell_type": "code",
   "execution_count": 128,
   "id": "c1171407",
   "metadata": {},
   "outputs": [
    {
     "name": "stdout",
     "output_type": "stream",
     "text": [
      "76 ns ± 1.72 ns per loop (mean ± std. dev. of 7 runs, 10000000 loops each)\n"
     ]
    }
   ],
   "source": [
    "%timeit get_user_info()"
   ]
  },
  {
   "cell_type": "markdown",
   "id": "c9114233",
   "metadata": {},
   "source": [
    "## B. Simple transformations"
   ]
  },
  {
   "cell_type": "code",
   "execution_count": 129,
   "id": "e0cdd86f",
   "metadata": {},
   "outputs": [],
   "source": [
    "n = 1000\n",
    "nums = [random.randint(0, 100) for _ in range(n)]"
   ]
  },
  {
   "cell_type": "markdown",
   "id": "e3d36080",
   "metadata": {},
   "source": [
    "### i. Loop implementation"
   ]
  },
  {
   "cell_type": "code",
   "execution_count": 130,
   "id": "29b04453",
   "metadata": {},
   "outputs": [],
   "source": [
    "def transform1(nums):\n",
    "    results = []\n",
    "    for x in nums:\n",
    "        results.append(str(x))\n",
    "    return results"
   ]
  },
  {
   "cell_type": "code",
   "execution_count": 131,
   "id": "99077666",
   "metadata": {},
   "outputs": [
    {
     "name": "stdout",
     "output_type": "stream",
     "text": [
      "201 µs ± 1.21 µs per loop (mean ± std. dev. of 7 runs, 1000 loops each)\n"
     ]
    }
   ],
   "source": [
    "%timeit transform1(nums)"
   ]
  },
  {
   "cell_type": "markdown",
   "id": "2c7e1ffa",
   "metadata": {},
   "source": [
    "### ii. Map implementation"
   ]
  },
  {
   "cell_type": "code",
   "execution_count": 132,
   "id": "d9da3ab7",
   "metadata": {},
   "outputs": [],
   "source": [
    "def transform2(nums):\n",
    "    return list(map(str, nums))"
   ]
  },
  {
   "cell_type": "code",
   "execution_count": 133,
   "id": "9e3767e4",
   "metadata": {},
   "outputs": [
    {
     "name": "stdout",
     "output_type": "stream",
     "text": [
      "136 µs ± 770 ns per loop (mean ± std. dev. of 7 runs, 10000 loops each)\n"
     ]
    }
   ],
   "source": [
    "%timeit transform2(nums)"
   ]
  },
  {
   "cell_type": "markdown",
   "id": "872ffa58",
   "metadata": {},
   "source": [
    "# 5. Object Design"
   ]
  },
  {
   "cell_type": "markdown",
   "id": "bea27e4b",
   "metadata": {},
   "source": [
    "## A. Type checking"
   ]
  },
  {
   "cell_type": "markdown",
   "id": "2b1da6f3",
   "metadata": {},
   "source": [
    "### i.Type implementation "
   ]
  },
  {
   "cell_type": "code",
   "execution_count": 134,
   "id": "b1468bde",
   "metadata": {},
   "outputs": [],
   "source": [
    "def type_check1(obj):\n",
    "    if type(obj) == int:\n",
    "        return True\n",
    "    return False"
   ]
  },
  {
   "cell_type": "code",
   "execution_count": 135,
   "id": "465b9088",
   "metadata": {},
   "outputs": [
    {
     "name": "stdout",
     "output_type": "stream",
     "text": [
      "164 ns ± 7.74 ns per loop (mean ± std. dev. of 7 runs, 10000000 loops each)\n"
     ]
    }
   ],
   "source": [
    "%timeit type_check1(1)"
   ]
  },
  {
   "cell_type": "markdown",
   "id": "828d44a0",
   "metadata": {},
   "source": [
    "### ii. Isinstance implementation"
   ]
  },
  {
   "cell_type": "code",
   "execution_count": 136,
   "id": "78c964af",
   "metadata": {},
   "outputs": [],
   "source": [
    "def type_check2(obj):\n",
    "    if isinstance(obj, int):\n",
    "        return True\n",
    "    return False"
   ]
  },
  {
   "cell_type": "code",
   "execution_count": 137,
   "id": "5a4ff8d0",
   "metadata": {
    "scrolled": false
   },
   "outputs": [
    {
     "name": "stdout",
     "output_type": "stream",
     "text": [
      "134 ns ± 10.3 ns per loop (mean ± std. dev. of 7 runs, 10000000 loops each)\n"
     ]
    }
   ],
   "source": [
    "%timeit type_check2(1)"
   ]
  },
  {
   "cell_type": "markdown",
   "id": "51c78365",
   "metadata": {},
   "source": [
    "## B. LRU Caching"
   ]
  },
  {
   "cell_type": "markdown",
   "id": "4c513775",
   "metadata": {},
   "source": [
    "### i. No caching implementation"
   ]
  },
  {
   "cell_type": "code",
   "execution_count": 138,
   "id": "818bea89",
   "metadata": {},
   "outputs": [],
   "source": [
    "def fib1(n):\n",
    "    if n < 2:\n",
    "        return n\n",
    "    return fib1(n-1) + fib1(n-2)"
   ]
  },
  {
   "cell_type": "code",
   "execution_count": 139,
   "id": "3a4661d1",
   "metadata": {},
   "outputs": [
    {
     "name": "stdout",
     "output_type": "stream",
     "text": [
      "34.3 µs ± 1.9 µs per loop (mean ± std. dev. of 7 runs, 10000 loops each)\n"
     ]
    }
   ],
   "source": [
    "%timeit for x in range(10): fib1(x)"
   ]
  },
  {
   "cell_type": "markdown",
   "id": "1d0e6107",
   "metadata": {},
   "source": [
    "### ii. LRU cache implementation"
   ]
  },
  {
   "cell_type": "code",
   "execution_count": 140,
   "id": "b73d4b98",
   "metadata": {},
   "outputs": [],
   "source": [
    "from functools import lru_cache\n",
    "@lru_cache(maxsize=None)\n",
    "def fib2(n):\n",
    "    if n < 2:\n",
    "        return n\n",
    "    return fib2(n-1) + fib2(n-2)"
   ]
  },
  {
   "cell_type": "code",
   "execution_count": 141,
   "id": "ca1f1cc3",
   "metadata": {},
   "outputs": [
    {
     "name": "stdout",
     "output_type": "stream",
     "text": [
      "1.11 µs ± 73.3 ns per loop (mean ± std. dev. of 7 runs, 1000000 loops each)\n"
     ]
    }
   ],
   "source": [
    "%timeit for x in range(10): fib2(x)"
   ]
  },
  {
   "cell_type": "markdown",
   "id": "2a0072a6",
   "metadata": {},
   "source": [
    "# 6. Exceptions"
   ]
  },
  {
   "cell_type": "markdown",
   "id": "87b747d4",
   "metadata": {},
   "source": [
    "## Try-Except vs If-Else"
   ]
  },
  {
   "cell_type": "code",
   "execution_count": 142,
   "id": "23587c5f",
   "metadata": {},
   "outputs": [],
   "source": [
    "n = 1000\n",
    "lst = random.choices(range(n), k=n)"
   ]
  },
  {
   "cell_type": "markdown",
   "id": "cec0a712",
   "metadata": {},
   "source": [
    "### Look before you leap (LBYL)"
   ]
  },
  {
   "cell_type": "code",
   "execution_count": 143,
   "id": "a9ded54c",
   "metadata": {},
   "outputs": [],
   "source": [
    "def LBYL(idx, lst):\n",
    "    if idx < len(lst):\n",
    "        return lst[idx]"
   ]
  },
  {
   "cell_type": "code",
   "execution_count": 144,
   "id": "1991b23b",
   "metadata": {},
   "outputs": [
    {
     "name": "stdout",
     "output_type": "stream",
     "text": [
      "196 ns ± 3.91 ns per loop (mean ± std. dev. of 7 runs, 10000000 loops each)\n"
     ]
    }
   ],
   "source": [
    "%timeit LBYL(500, lst)"
   ]
  },
  {
   "cell_type": "markdown",
   "id": "05a221ce",
   "metadata": {},
   "source": [
    "### Easier to ask forgiveness than permission (EAFP)"
   ]
  },
  {
   "cell_type": "code",
   "execution_count": 145,
   "id": "317bfab7",
   "metadata": {},
   "outputs": [],
   "source": [
    "def EAFP(idx, lst):\n",
    "    try:\n",
    "        return lst[idx]\n",
    "    except IndexError:\n",
    "        return None"
   ]
  },
  {
   "cell_type": "code",
   "execution_count": 146,
   "id": "a46c553d",
   "metadata": {
    "scrolled": true
   },
   "outputs": [
    {
     "name": "stdout",
     "output_type": "stream",
     "text": [
      "131 ns ± 2.57 ns per loop (mean ± std. dev. of 7 runs, 10000000 loops each)\n"
     ]
    }
   ],
   "source": [
    "%timeit EAFP(500, lst)"
   ]
  },
  {
   "cell_type": "markdown",
   "id": "cd3964f5",
   "metadata": {},
   "source": [
    "# 7. Other"
   ]
  },
  {
   "cell_type": "markdown",
   "id": "9a1894be",
   "metadata": {},
   "source": [
    "## A. Identity"
   ]
  },
  {
   "cell_type": "code",
   "execution_count": 147,
   "id": "09434a88",
   "metadata": {},
   "outputs": [],
   "source": [
    "n = 1000000\n",
    "iterable = random.choices([None, 1], k=n)"
   ]
  },
  {
   "cell_type": "markdown",
   "id": "649a6d9c",
   "metadata": {},
   "source": [
    "### i. Equality (==) implementation"
   ]
  },
  {
   "cell_type": "code",
   "execution_count": 148,
   "id": "d7564d3d",
   "metadata": {},
   "outputs": [],
   "source": [
    "def is1(a):\n",
    "    if a == None:\n",
    "        return True\n",
    "    return False"
   ]
  },
  {
   "cell_type": "code",
   "execution_count": 149,
   "id": "e0b314c6",
   "metadata": {},
   "outputs": [
    {
     "name": "stdout",
     "output_type": "stream",
     "text": [
      "130 ms ± 7.44 ms per loop (mean ± std. dev. of 7 runs, 10 loops each)\n"
     ]
    }
   ],
   "source": [
    "%timeit for x in iterable: is1(x)"
   ]
  },
  {
   "cell_type": "markdown",
   "id": "e2777fd4",
   "metadata": {},
   "source": [
    "### ii. Is implemenation"
   ]
  },
  {
   "cell_type": "code",
   "execution_count": 150,
   "id": "84d37797",
   "metadata": {},
   "outputs": [],
   "source": [
    "def is2(a):\n",
    "    if a is None:\n",
    "        return True\n",
    "    return False"
   ]
  },
  {
   "cell_type": "code",
   "execution_count": 151,
   "id": "486a7b42",
   "metadata": {},
   "outputs": [
    {
     "name": "stdout",
     "output_type": "stream",
     "text": [
      "116 ms ± 8.37 ms per loop (mean ± std. dev. of 7 runs, 10 loops each)\n"
     ]
    }
   ],
   "source": [
    "%timeit for x in iterable: is2(x)"
   ]
  },
  {
   "cell_type": "markdown",
   "id": "c0ef0f29",
   "metadata": {},
   "source": [
    "## B. Vectorize"
   ]
  },
  {
   "cell_type": "code",
   "execution_count": 152,
   "id": "ea3097c6",
   "metadata": {},
   "outputs": [],
   "source": [
    "n = 100000\n",
    "lst = list(range(n))"
   ]
  },
  {
   "cell_type": "markdown",
   "id": "66dd61b8",
   "metadata": {},
   "source": [
    "### i. Loop implementation"
   ]
  },
  {
   "cell_type": "code",
   "execution_count": 153,
   "id": "5902365e",
   "metadata": {},
   "outputs": [],
   "source": [
    "def multiply1(iterable, val):\n",
    "    results = []\n",
    "    for item in iterable:\n",
    "        results.append(item*val)\n",
    "    return results"
   ]
  },
  {
   "cell_type": "code",
   "execution_count": 154,
   "id": "71d653e6",
   "metadata": {},
   "outputs": [
    {
     "name": "stdout",
     "output_type": "stream",
     "text": [
      "9.25 ms ± 293 µs per loop (mean ± std. dev. of 7 runs, 100 loops each)\n"
     ]
    }
   ],
   "source": [
    "%timeit multiply1(lst, 2)"
   ]
  },
  {
   "cell_type": "markdown",
   "id": "153ad9f3",
   "metadata": {},
   "source": [
    "### ii. List comprehension implementation"
   ]
  },
  {
   "cell_type": "code",
   "execution_count": 155,
   "id": "ffb00e85",
   "metadata": {},
   "outputs": [],
   "source": [
    "def multiply2(iterable, val):\n",
    "    return [x * val for x in iterable]"
   ]
  },
  {
   "cell_type": "code",
   "execution_count": 156,
   "id": "56d6fcf2",
   "metadata": {},
   "outputs": [
    {
     "name": "stdout",
     "output_type": "stream",
     "text": [
      "5.52 ms ± 171 µs per loop (mean ± std. dev. of 7 runs, 100 loops each)\n"
     ]
    }
   ],
   "source": [
    "%timeit multiply2(lst, 2)"
   ]
  },
  {
   "cell_type": "markdown",
   "id": "ebc95470",
   "metadata": {},
   "source": [
    "### iii. Numpy array implementation (not fastest on small data; larger the data, greater the impact)"
   ]
  },
  {
   "cell_type": "code",
   "execution_count": 157,
   "id": "fb1f2204",
   "metadata": {},
   "outputs": [],
   "source": [
    "import numpy as np\n",
    "def multiply3(iterable, val):\n",
    "    return np.array(iterable) * val"
   ]
  },
  {
   "cell_type": "code",
   "execution_count": 158,
   "id": "82eb1eb1",
   "metadata": {},
   "outputs": [
    {
     "name": "stdout",
     "output_type": "stream",
     "text": [
      "5.91 ms ± 165 µs per loop (mean ± std. dev. of 7 runs, 100 loops each)\n"
     ]
    }
   ],
   "source": [
    "%timeit multiply3(lst, 2)"
   ]
  },
  {
   "cell_type": "code",
   "execution_count": null,
   "id": "4fbce620",
   "metadata": {},
   "outputs": [],
   "source": []
  }
 ],
 "metadata": {
  "kernelspec": {
   "display_name": "Python 3",
   "language": "python",
   "name": "python3"
  },
  "language_info": {
   "codemirror_mode": {
    "name": "ipython",
    "version": 3
   },
   "file_extension": ".py",
   "mimetype": "text/x-python",
   "name": "python",
   "nbconvert_exporter": "python",
   "pygments_lexer": "ipython3",
   "version": "3.8.8"
  }
 },
 "nbformat": 4,
 "nbformat_minor": 5
}
